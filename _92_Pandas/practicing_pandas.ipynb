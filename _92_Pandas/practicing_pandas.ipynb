{
 "cells": [
  {
   "cell_type": "raw",
   "id": "62a1207b-7e03-43e5-8927-403c28171133",
   "metadata": {},
   "source": [
    "Basado en el video de Youtube: https://youtu.be/EhYC02PD_gc?si=Oo2diq27hahxUxyH"
   ]
  },
  {
   "cell_type": "code",
   "execution_count": 107,
   "id": "477093b3-01c3-485d-9363-a79ce4c0e09e",
   "metadata": {},
   "outputs": [],
   "source": [
    "import pandas as pd"
   ]
  },
  {
   "cell_type": "raw",
   "id": "03e70e77-29fe-48b7-a469-9a6ee274ffee",
   "metadata": {},
   "source": [
    "GENERANDO una SERIE desde una lista"
   ]
  },
  {
   "cell_type": "code",
   "execution_count": 108,
   "id": "03774c3b-ec5a-4888-a862-4c283ca1e369",
   "metadata": {},
   "outputs": [
    {
     "data": {
      "text/plain": [
       "0    a\n",
       "1    b\n",
       "2    c\n",
       "3    d\n",
       "4    e\n",
       "dtype: object"
      ]
     },
     "execution_count": 108,
     "metadata": {},
     "output_type": "execute_result"
    }
   ],
   "source": [
    "data = ['a', 'b', 'c', 'd', 'e']\n",
    "df_serie = pd.Series(data)\n",
    "df_serie"
   ]
  },
  {
   "cell_type": "code",
   "execution_count": 109,
   "id": "d26c49cc-864e-40cc-9d78-eda14cbf87f1",
   "metadata": {},
   "outputs": [
    {
     "data": {
      "text/plain": [
       "'a'"
      ]
     },
     "execution_count": 109,
     "metadata": {},
     "output_type": "execute_result"
    }
   ],
   "source": [
    "df_serie[0]"
   ]
  },
  {
   "cell_type": "raw",
   "id": "5a549b07-32dc-4498-9725-33036ae650b1",
   "metadata": {},
   "source": [
    "GENERANDO un DATAFRAME desde un diccionario"
   ]
  },
  {
   "cell_type": "code",
   "execution_count": 110,
   "id": "000821f0-cb06-4438-8947-623cd26b5762",
   "metadata": {},
   "outputs": [
    {
     "data": {
      "text/html": [
       "<div>\n",
       "<style scoped>\n",
       "    .dataframe tbody tr th:only-of-type {\n",
       "        vertical-align: middle;\n",
       "    }\n",
       "\n",
       "    .dataframe tbody tr th {\n",
       "        vertical-align: top;\n",
       "    }\n",
       "\n",
       "    .dataframe thead th {\n",
       "        text-align: right;\n",
       "    }\n",
       "</style>\n",
       "<table border=\"1\" class=\"dataframe\">\n",
       "  <thead>\n",
       "    <tr style=\"text-align: right;\">\n",
       "      <th></th>\n",
       "      <th>name</th>\n",
       "      <th>age</th>\n",
       "      <th>job</th>\n",
       "    </tr>\n",
       "  </thead>\n",
       "  <tbody>\n",
       "    <tr>\n",
       "      <th>0</th>\n",
       "      <td>Paul</td>\n",
       "      <td>13</td>\n",
       "      <td>jardinero</td>\n",
       "    </tr>\n",
       "    <tr>\n",
       "      <th>1</th>\n",
       "      <td>John</td>\n",
       "      <td>14</td>\n",
       "      <td>butanero</td>\n",
       "    </tr>\n",
       "    <tr>\n",
       "      <th>2</th>\n",
       "      <td>Paco</td>\n",
       "      <td>18</td>\n",
       "      <td>fontanero</td>\n",
       "    </tr>\n",
       "  </tbody>\n",
       "</table>\n",
       "</div>"
      ],
      "text/plain": [
       "   name  age        job\n",
       "0  Paul   13  jardinero\n",
       "1  John   14   butanero\n",
       "2  Paco   18  fontanero"
      ]
     },
     "execution_count": 110,
     "metadata": {},
     "output_type": "execute_result"
    }
   ],
   "source": [
    "df = pd.DataFrame({\n",
    "    'name': ['Paul', 'John', 'Paco'],\n",
    "    'age': [13, 14, 18],\n",
    "    'job': ['jardinero', 'butanero', 'fontanero'],\n",
    "})\n",
    "df"
   ]
  },
  {
   "cell_type": "raw",
   "id": "390085ea-1e83-496f-ac92-199dcda41b86",
   "metadata": {},
   "source": [
    "MODIFICAR el INDICE del dataframe para que este sea el campo 'name'"
   ]
  },
  {
   "cell_type": "code",
   "execution_count": 111,
   "id": "68232c2a-cd39-445e-b338-5feaee359ac4",
   "metadata": {
    "scrolled": true
   },
   "outputs": [
    {
     "data": {
      "text/html": [
       "<div>\n",
       "<style scoped>\n",
       "    .dataframe tbody tr th:only-of-type {\n",
       "        vertical-align: middle;\n",
       "    }\n",
       "\n",
       "    .dataframe tbody tr th {\n",
       "        vertical-align: top;\n",
       "    }\n",
       "\n",
       "    .dataframe thead th {\n",
       "        text-align: right;\n",
       "    }\n",
       "</style>\n",
       "<table border=\"1\" class=\"dataframe\">\n",
       "  <thead>\n",
       "    <tr style=\"text-align: right;\">\n",
       "      <th></th>\n",
       "      <th>age</th>\n",
       "      <th>job</th>\n",
       "    </tr>\n",
       "    <tr>\n",
       "      <th>name</th>\n",
       "      <th></th>\n",
       "      <th></th>\n",
       "    </tr>\n",
       "  </thead>\n",
       "  <tbody>\n",
       "    <tr>\n",
       "      <th>Paul</th>\n",
       "      <td>13</td>\n",
       "      <td>jardinero</td>\n",
       "    </tr>\n",
       "    <tr>\n",
       "      <th>John</th>\n",
       "      <td>14</td>\n",
       "      <td>butanero</td>\n",
       "    </tr>\n",
       "    <tr>\n",
       "      <th>Paco</th>\n",
       "      <td>18</td>\n",
       "      <td>fontanero</td>\n",
       "    </tr>\n",
       "  </tbody>\n",
       "</table>\n",
       "</div>"
      ],
      "text/plain": [
       "      age        job\n",
       "name                \n",
       "Paul   13  jardinero\n",
       "John   14   butanero\n",
       "Paco   18  fontanero"
      ]
     },
     "execution_count": 111,
     "metadata": {},
     "output_type": "execute_result"
    }
   ],
   "source": [
    "df = df.set_index('name')\n",
    "df"
   ]
  },
  {
   "cell_type": "code",
   "execution_count": 112,
   "id": "3c055805-a8ab-4deb-801d-b8267eb1658d",
   "metadata": {},
   "outputs": [
    {
     "data": {
      "text/plain": [
       "age           18\n",
       "job    fontanero\n",
       "Name: Paco, dtype: object"
      ]
     },
     "execution_count": 112,
     "metadata": {},
     "output_type": "execute_result"
    }
   ],
   "source": [
    "df.loc['Paco']"
   ]
  },
  {
   "cell_type": "raw",
   "id": "34f629e1-96f1-483f-959b-9f9509a33e94",
   "metadata": {},
   "source": [
    "SACAMOS la edad de Paco con"
   ]
  },
  {
   "cell_type": "code",
   "execution_count": 113,
   "id": "53918b9c-f4f4-4d54-8b2d-fb0bde0baefc",
   "metadata": {},
   "outputs": [
    {
     "data": {
      "text/plain": [
       "np.int64(13)"
      ]
     },
     "execution_count": 113,
     "metadata": {},
     "output_type": "execute_result"
    }
   ],
   "source": [
    "df.loc['Paul', 'age']"
   ]
  },
  {
   "cell_type": "raw",
   "id": "0bc04ec2-5445-4910-b9d4-7bcba3f3bb17",
   "metadata": {},
   "source": [
    "Con la funcion 'iloc', podemos SACAR la informacion independientemente de cual sea el índice:"
   ]
  },
  {
   "cell_type": "code",
   "execution_count": 114,
   "id": "86b327dd-8662-4bb1-80ed-c0b91559effc",
   "metadata": {},
   "outputs": [
    {
     "data": {
      "text/plain": [
       "age          14\n",
       "job    butanero\n",
       "Name: John, dtype: object"
      ]
     },
     "execution_count": 114,
     "metadata": {},
     "output_type": "execute_result"
    }
   ],
   "source": [
    "df.iloc[1]"
   ]
  },
  {
   "cell_type": "code",
   "execution_count": 115,
   "id": "f888a100-9804-4254-98e6-413d4d6be84f",
   "metadata": {},
   "outputs": [
    {
     "data": {
      "text/html": [
       "<div>\n",
       "<style scoped>\n",
       "    .dataframe tbody tr th:only-of-type {\n",
       "        vertical-align: middle;\n",
       "    }\n",
       "\n",
       "    .dataframe tbody tr th {\n",
       "        vertical-align: top;\n",
       "    }\n",
       "\n",
       "    .dataframe thead th {\n",
       "        text-align: right;\n",
       "    }\n",
       "</style>\n",
       "<table border=\"1\" class=\"dataframe\">\n",
       "  <thead>\n",
       "    <tr style=\"text-align: right;\">\n",
       "      <th></th>\n",
       "      <th>age</th>\n",
       "      <th>job</th>\n",
       "    </tr>\n",
       "    <tr>\n",
       "      <th>name</th>\n",
       "      <th></th>\n",
       "      <th></th>\n",
       "    </tr>\n",
       "  </thead>\n",
       "  <tbody>\n",
       "    <tr>\n",
       "      <th>Paul</th>\n",
       "      <td>13</td>\n",
       "      <td>jardinero</td>\n",
       "    </tr>\n",
       "    <tr>\n",
       "      <th>John</th>\n",
       "      <td>14</td>\n",
       "      <td>butanero</td>\n",
       "    </tr>\n",
       "  </tbody>\n",
       "</table>\n",
       "</div>"
      ],
      "text/plain": [
       "      age        job\n",
       "name                \n",
       "Paul   13  jardinero\n",
       "John   14   butanero"
      ]
     },
     "execution_count": 115,
     "metadata": {},
     "output_type": "execute_result"
    }
   ],
   "source": [
    "df.iloc[0:2]"
   ]
  },
  {
   "cell_type": "code",
   "execution_count": 116,
   "id": "4727be09-fa7b-4125-9c50-670116efcf51",
   "metadata": {},
   "outputs": [
    {
     "data": {
      "text/plain": [
       "name\n",
       "Paul    jardinero\n",
       "John     butanero\n",
       "Name: job, dtype: object"
      ]
     },
     "execution_count": 116,
     "metadata": {},
     "output_type": "execute_result"
    }
   ],
   "source": [
    "df.iloc[0:2, 1] #Solo salen los trabajos de los 2 primeros registros. Sale tb el nombre porque el indice del dataframe en este caso es el campo 'name'"
   ]
  },
  {
   "cell_type": "raw",
   "id": "3874d590-ead5-472c-9cc1-c3f06421259e",
   "metadata": {},
   "source": [
    "Para SACAR la edad tal y como hemos hecho antes (la columna del indice no cuenta):"
   ]
  },
  {
   "cell_type": "code",
   "execution_count": 117,
   "id": "f0f809e4-f9b1-4238-a11b-d1e45314659d",
   "metadata": {},
   "outputs": [
    {
     "data": {
      "text/plain": [
       "np.int64(14)"
      ]
     },
     "execution_count": 117,
     "metadata": {},
     "output_type": "execute_result"
    }
   ],
   "source": [
    "df.iloc[1, 0]"
   ]
  },
  {
   "cell_type": "raw",
   "id": "0e1eb5ca-ceac-4156-a450-762fde10324a",
   "metadata": {},
   "source": [
    "Podemos hacer los mismo con las funciones 'at' (similar a 'loc') e 'iat' (similar a 'iloc') pero necesario indicar coordenadas en funcion del indice. Es decir, estas funciones son para obtener valores concretos del dataframe:"
   ]
  },
  {
   "cell_type": "code",
   "execution_count": 118,
   "id": "940612d0-4f53-43b4-93c6-6f00678f4d3e",
   "metadata": {},
   "outputs": [
    {
     "data": {
      "text/plain": [
       "np.int64(13)"
      ]
     },
     "execution_count": 118,
     "metadata": {},
     "output_type": "execute_result"
    }
   ],
   "source": [
    "df.at['Paul', 'age']"
   ]
  },
  {
   "cell_type": "code",
   "execution_count": 119,
   "id": "657c9ddc-7ca5-4947-8257-a5a9d5ceb932",
   "metadata": {},
   "outputs": [
    {
     "data": {
      "text/plain": [
       "np.int64(13)"
      ]
     },
     "execution_count": 119,
     "metadata": {},
     "output_type": "execute_result"
    }
   ],
   "source": [
    "df.iat[0, 0]"
   ]
  },
  {
   "cell_type": "raw",
   "id": "c24fdbf9-cf36-4f20-abf8-d35eefff4a1c",
   "metadata": {},
   "source": [
    "Para CAMBIAR un VALOR:"
   ]
  },
  {
   "cell_type": "code",
   "execution_count": 120,
   "id": "85e12c99-d8de-4289-88a6-1851ef6a7db6",
   "metadata": {},
   "outputs": [
    {
     "data": {
      "text/html": [
       "<div>\n",
       "<style scoped>\n",
       "    .dataframe tbody tr th:only-of-type {\n",
       "        vertical-align: middle;\n",
       "    }\n",
       "\n",
       "    .dataframe tbody tr th {\n",
       "        vertical-align: top;\n",
       "    }\n",
       "\n",
       "    .dataframe thead th {\n",
       "        text-align: right;\n",
       "    }\n",
       "</style>\n",
       "<table border=\"1\" class=\"dataframe\">\n",
       "  <thead>\n",
       "    <tr style=\"text-align: right;\">\n",
       "      <th></th>\n",
       "      <th>age</th>\n",
       "      <th>job</th>\n",
       "    </tr>\n",
       "    <tr>\n",
       "      <th>name</th>\n",
       "      <th></th>\n",
       "      <th></th>\n",
       "    </tr>\n",
       "  </thead>\n",
       "  <tbody>\n",
       "    <tr>\n",
       "      <th>Paul</th>\n",
       "      <td>13</td>\n",
       "      <td>jardinero</td>\n",
       "    </tr>\n",
       "    <tr>\n",
       "      <th>John</th>\n",
       "      <td>14</td>\n",
       "      <td>butanero</td>\n",
       "    </tr>\n",
       "    <tr>\n",
       "      <th>Paco</th>\n",
       "      <td>18</td>\n",
       "      <td>fontanero</td>\n",
       "    </tr>\n",
       "  </tbody>\n",
       "</table>\n",
       "</div>"
      ],
      "text/plain": [
       "      age        job\n",
       "name                \n",
       "Paul   13  jardinero\n",
       "John   14   butanero\n",
       "Paco   18  fontanero"
      ]
     },
     "execution_count": 120,
     "metadata": {},
     "output_type": "execute_result"
    }
   ],
   "source": [
    "df"
   ]
  },
  {
   "cell_type": "code",
   "execution_count": 121,
   "id": "84e739c6-4615-4bfe-9e2e-658b2ce9d7fe",
   "metadata": {},
   "outputs": [
    {
     "data": {
      "text/html": [
       "<div>\n",
       "<style scoped>\n",
       "    .dataframe tbody tr th:only-of-type {\n",
       "        vertical-align: middle;\n",
       "    }\n",
       "\n",
       "    .dataframe tbody tr th {\n",
       "        vertical-align: top;\n",
       "    }\n",
       "\n",
       "    .dataframe thead th {\n",
       "        text-align: right;\n",
       "    }\n",
       "</style>\n",
       "<table border=\"1\" class=\"dataframe\">\n",
       "  <thead>\n",
       "    <tr style=\"text-align: right;\">\n",
       "      <th></th>\n",
       "      <th>age</th>\n",
       "      <th>job</th>\n",
       "    </tr>\n",
       "    <tr>\n",
       "      <th>name</th>\n",
       "      <th></th>\n",
       "      <th></th>\n",
       "    </tr>\n",
       "  </thead>\n",
       "  <tbody>\n",
       "    <tr>\n",
       "      <th>Paul</th>\n",
       "      <td>60</td>\n",
       "      <td>jardinero</td>\n",
       "    </tr>\n",
       "    <tr>\n",
       "      <th>John</th>\n",
       "      <td>14</td>\n",
       "      <td>butanero</td>\n",
       "    </tr>\n",
       "    <tr>\n",
       "      <th>Paco</th>\n",
       "      <td>18</td>\n",
       "      <td>fontanero</td>\n",
       "    </tr>\n",
       "  </tbody>\n",
       "</table>\n",
       "</div>"
      ],
      "text/plain": [
       "      age        job\n",
       "name                \n",
       "Paul   60  jardinero\n",
       "John   14   butanero\n",
       "Paco   18  fontanero"
      ]
     },
     "execution_count": 121,
     "metadata": {},
     "output_type": "execute_result"
    }
   ],
   "source": [
    "df.at['Paul', 'age'] = 60\n",
    "df"
   ]
  },
  {
   "cell_type": "raw",
   "id": "1490f373-90e6-4460-bd4d-c4aed2e90577",
   "metadata": {},
   "source": [
    "CAMBIAR TODOS los VALORES  de un registro:"
   ]
  },
  {
   "cell_type": "code",
   "execution_count": 122,
   "id": "8936e8ba-ff28-499c-bb34-8266625bdaa1",
   "metadata": {},
   "outputs": [
    {
     "data": {
      "text/html": [
       "<div>\n",
       "<style scoped>\n",
       "    .dataframe tbody tr th:only-of-type {\n",
       "        vertical-align: middle;\n",
       "    }\n",
       "\n",
       "    .dataframe tbody tr th {\n",
       "        vertical-align: top;\n",
       "    }\n",
       "\n",
       "    .dataframe thead th {\n",
       "        text-align: right;\n",
       "    }\n",
       "</style>\n",
       "<table border=\"1\" class=\"dataframe\">\n",
       "  <thead>\n",
       "    <tr style=\"text-align: right;\">\n",
       "      <th></th>\n",
       "      <th>age</th>\n",
       "      <th>job</th>\n",
       "    </tr>\n",
       "    <tr>\n",
       "      <th>name</th>\n",
       "      <th></th>\n",
       "      <th></th>\n",
       "    </tr>\n",
       "  </thead>\n",
       "  <tbody>\n",
       "    <tr>\n",
       "      <th>Paul</th>\n",
       "      <td>55</td>\n",
       "      <td>Peluquero</td>\n",
       "    </tr>\n",
       "    <tr>\n",
       "      <th>John</th>\n",
       "      <td>14</td>\n",
       "      <td>butanero</td>\n",
       "    </tr>\n",
       "    <tr>\n",
       "      <th>Paco</th>\n",
       "      <td>18</td>\n",
       "      <td>fontanero</td>\n",
       "    </tr>\n",
       "  </tbody>\n",
       "</table>\n",
       "</div>"
      ],
      "text/plain": [
       "      age        job\n",
       "name                \n",
       "Paul   55  Peluquero\n",
       "John   14   butanero\n",
       "Paco   18  fontanero"
      ]
     },
     "execution_count": 122,
     "metadata": {},
     "output_type": "execute_result"
    }
   ],
   "source": [
    "df.loc['Paul'] = [55, 'Peluquero']\n",
    "df"
   ]
  },
  {
   "cell_type": "raw",
   "id": "5055df8b-6497-4e2c-8ac8-4bda1a8b03b8",
   "metadata": {},
   "source": [
    "AÑADIENDO un NUEVO REGISTRO:"
   ]
  },
  {
   "cell_type": "code",
   "execution_count": 123,
   "id": "29d90e9c-9b6e-476f-ae6a-6525b04aa19e",
   "metadata": {},
   "outputs": [
    {
     "data": {
      "text/html": [
       "<div>\n",
       "<style scoped>\n",
       "    .dataframe tbody tr th:only-of-type {\n",
       "        vertical-align: middle;\n",
       "    }\n",
       "\n",
       "    .dataframe tbody tr th {\n",
       "        vertical-align: top;\n",
       "    }\n",
       "\n",
       "    .dataframe thead th {\n",
       "        text-align: right;\n",
       "    }\n",
       "</style>\n",
       "<table border=\"1\" class=\"dataframe\">\n",
       "  <thead>\n",
       "    <tr style=\"text-align: right;\">\n",
       "      <th></th>\n",
       "      <th>age</th>\n",
       "      <th>job</th>\n",
       "    </tr>\n",
       "    <tr>\n",
       "      <th>name</th>\n",
       "      <th></th>\n",
       "      <th></th>\n",
       "    </tr>\n",
       "  </thead>\n",
       "  <tbody>\n",
       "    <tr>\n",
       "      <th>Paul</th>\n",
       "      <td>55</td>\n",
       "      <td>Peluquero</td>\n",
       "    </tr>\n",
       "    <tr>\n",
       "      <th>John</th>\n",
       "      <td>14</td>\n",
       "      <td>butanero</td>\n",
       "    </tr>\n",
       "    <tr>\n",
       "      <th>Paco</th>\n",
       "      <td>18</td>\n",
       "      <td>fontanero</td>\n",
       "    </tr>\n",
       "    <tr>\n",
       "      <th>Pepe</th>\n",
       "      <td>90</td>\n",
       "      <td>Carretillero</td>\n",
       "    </tr>\n",
       "  </tbody>\n",
       "</table>\n",
       "</div>"
      ],
      "text/plain": [
       "      age           job\n",
       "name                   \n",
       "Paul   55     Peluquero\n",
       "John   14      butanero\n",
       "Paco   18     fontanero\n",
       "Pepe   90  Carretillero"
      ]
     },
     "execution_count": 123,
     "metadata": {},
     "output_type": "execute_result"
    }
   ],
   "source": [
    "df.loc['Pepe'] = [90, 'Carretillero']\n",
    "df"
   ]
  },
  {
   "cell_type": "raw",
   "id": "cd08396c-a8b9-43cc-b556-9260efd576d4",
   "metadata": {},
   "source": [
    "AÑADIENDO una NUEVA COLUMNA:"
   ]
  },
  {
   "cell_type": "code",
   "execution_count": 124,
   "id": "bdd59a14-6b24-4bcc-ac7a-8c91fdc16b54",
   "metadata": {},
   "outputs": [
    {
     "data": {
      "text/html": [
       "<div>\n",
       "<style scoped>\n",
       "    .dataframe tbody tr th:only-of-type {\n",
       "        vertical-align: middle;\n",
       "    }\n",
       "\n",
       "    .dataframe tbody tr th {\n",
       "        vertical-align: top;\n",
       "    }\n",
       "\n",
       "    .dataframe thead th {\n",
       "        text-align: right;\n",
       "    }\n",
       "</style>\n",
       "<table border=\"1\" class=\"dataframe\">\n",
       "  <thead>\n",
       "    <tr style=\"text-align: right;\">\n",
       "      <th></th>\n",
       "      <th>age</th>\n",
       "      <th>job</th>\n",
       "      <th>City</th>\n",
       "    </tr>\n",
       "    <tr>\n",
       "      <th>name</th>\n",
       "      <th></th>\n",
       "      <th></th>\n",
       "      <th></th>\n",
       "    </tr>\n",
       "  </thead>\n",
       "  <tbody>\n",
       "    <tr>\n",
       "      <th>Paul</th>\n",
       "      <td>55</td>\n",
       "      <td>Peluquero</td>\n",
       "      <td>Llodio</td>\n",
       "    </tr>\n",
       "    <tr>\n",
       "      <th>John</th>\n",
       "      <td>14</td>\n",
       "      <td>butanero</td>\n",
       "      <td>Amurrio</td>\n",
       "    </tr>\n",
       "    <tr>\n",
       "      <th>Paco</th>\n",
       "      <td>18</td>\n",
       "      <td>fontanero</td>\n",
       "      <td>Orozko</td>\n",
       "    </tr>\n",
       "    <tr>\n",
       "      <th>Pepe</th>\n",
       "      <td>90</td>\n",
       "      <td>Carretillero</td>\n",
       "      <td>Orduña</td>\n",
       "    </tr>\n",
       "  </tbody>\n",
       "</table>\n",
       "</div>"
      ],
      "text/plain": [
       "      age           job     City\n",
       "name                            \n",
       "Paul   55     Peluquero   Llodio\n",
       "John   14      butanero  Amurrio\n",
       "Paco   18     fontanero   Orozko\n",
       "Pepe   90  Carretillero   Orduña"
      ]
     },
     "execution_count": 124,
     "metadata": {},
     "output_type": "execute_result"
    }
   ],
   "source": [
    "df['City'] = ['Llodio', 'Amurrio', 'Orozko', 'Orduña']\n",
    "df"
   ]
  },
  {
   "cell_type": "raw",
   "id": "4e2e65de-de71-42cd-bb74-955128314097",
   "metadata": {},
   "source": [
    "RESETEAMOS el dataframe para que el indice vuelva a generarse de manera automática."
   ]
  },
  {
   "cell_type": "code",
   "execution_count": 125,
   "id": "16ae7dac-45d2-41bb-ab1b-3e68ad211802",
   "metadata": {},
   "outputs": [
    {
     "data": {
      "text/html": [
       "<div>\n",
       "<style scoped>\n",
       "    .dataframe tbody tr th:only-of-type {\n",
       "        vertical-align: middle;\n",
       "    }\n",
       "\n",
       "    .dataframe tbody tr th {\n",
       "        vertical-align: top;\n",
       "    }\n",
       "\n",
       "    .dataframe thead th {\n",
       "        text-align: right;\n",
       "    }\n",
       "</style>\n",
       "<table border=\"1\" class=\"dataframe\">\n",
       "  <thead>\n",
       "    <tr style=\"text-align: right;\">\n",
       "      <th></th>\n",
       "      <th>name</th>\n",
       "      <th>age</th>\n",
       "      <th>job</th>\n",
       "      <th>City</th>\n",
       "    </tr>\n",
       "  </thead>\n",
       "  <tbody>\n",
       "    <tr>\n",
       "      <th>0</th>\n",
       "      <td>Paul</td>\n",
       "      <td>55</td>\n",
       "      <td>Peluquero</td>\n",
       "      <td>Llodio</td>\n",
       "    </tr>\n",
       "    <tr>\n",
       "      <th>1</th>\n",
       "      <td>John</td>\n",
       "      <td>14</td>\n",
       "      <td>butanero</td>\n",
       "      <td>Amurrio</td>\n",
       "    </tr>\n",
       "    <tr>\n",
       "      <th>2</th>\n",
       "      <td>Paco</td>\n",
       "      <td>18</td>\n",
       "      <td>fontanero</td>\n",
       "      <td>Orozko</td>\n",
       "    </tr>\n",
       "    <tr>\n",
       "      <th>3</th>\n",
       "      <td>Pepe</td>\n",
       "      <td>90</td>\n",
       "      <td>Carretillero</td>\n",
       "      <td>Orduña</td>\n",
       "    </tr>\n",
       "  </tbody>\n",
       "</table>\n",
       "</div>"
      ],
      "text/plain": [
       "   name  age           job     City\n",
       "0  Paul   55     Peluquero   Llodio\n",
       "1  John   14      butanero  Amurrio\n",
       "2  Paco   18     fontanero   Orozko\n",
       "3  Pepe   90  Carretillero   Orduña"
      ]
     },
     "execution_count": 125,
     "metadata": {},
     "output_type": "execute_result"
    }
   ],
   "source": [
    "df = df.reset_index()\n",
    "df"
   ]
  },
  {
   "cell_type": "code",
   "execution_count": 126,
   "id": "ff1f2b0a-41b3-42dd-abc8-ff76633b9183",
   "metadata": {},
   "outputs": [
    {
     "data": {
      "text/plain": [
       "name         Paul\n",
       "age            55\n",
       "job     Peluquero\n",
       "City       Llodio\n",
       "Name: 0, dtype: object"
      ]
     },
     "execution_count": 126,
     "metadata": {},
     "output_type": "execute_result"
    }
   ],
   "source": [
    "df.loc[0]"
   ]
  },
  {
   "cell_type": "raw",
   "id": "8cef1599-2505-4345-adb9-f7a8b319da82",
   "metadata": {},
   "source": [
    "Para MANIPULAR TODOS LOS DATOS DE UNA COLUMNA:"
   ]
  },
  {
   "cell_type": "code",
   "execution_count": 127,
   "id": "3d6709a6-a2ab-4efc-bc74-29278cc92f13",
   "metadata": {},
   "outputs": [
    {
     "data": {
      "text/html": [
       "<div>\n",
       "<style scoped>\n",
       "    .dataframe tbody tr th:only-of-type {\n",
       "        vertical-align: middle;\n",
       "    }\n",
       "\n",
       "    .dataframe tbody tr th {\n",
       "        vertical-align: top;\n",
       "    }\n",
       "\n",
       "    .dataframe thead th {\n",
       "        text-align: right;\n",
       "    }\n",
       "</style>\n",
       "<table border=\"1\" class=\"dataframe\">\n",
       "  <thead>\n",
       "    <tr style=\"text-align: right;\">\n",
       "      <th></th>\n",
       "      <th>name</th>\n",
       "      <th>age</th>\n",
       "      <th>job</th>\n",
       "      <th>City</th>\n",
       "    </tr>\n",
       "  </thead>\n",
       "  <tbody>\n",
       "    <tr>\n",
       "      <th>0</th>\n",
       "      <td>Paul</td>\n",
       "      <td>65</td>\n",
       "      <td>Peluquero</td>\n",
       "      <td>Llodio</td>\n",
       "    </tr>\n",
       "    <tr>\n",
       "      <th>1</th>\n",
       "      <td>John</td>\n",
       "      <td>24</td>\n",
       "      <td>butanero</td>\n",
       "      <td>Amurrio</td>\n",
       "    </tr>\n",
       "    <tr>\n",
       "      <th>2</th>\n",
       "      <td>Paco</td>\n",
       "      <td>28</td>\n",
       "      <td>fontanero</td>\n",
       "      <td>Orozko</td>\n",
       "    </tr>\n",
       "    <tr>\n",
       "      <th>3</th>\n",
       "      <td>Pepe</td>\n",
       "      <td>100</td>\n",
       "      <td>Carretillero</td>\n",
       "      <td>Orduña</td>\n",
       "    </tr>\n",
       "  </tbody>\n",
       "</table>\n",
       "</div>"
      ],
      "text/plain": [
       "   name  age           job     City\n",
       "0  Paul   65     Peluquero   Llodio\n",
       "1  John   24      butanero  Amurrio\n",
       "2  Paco   28     fontanero   Orozko\n",
       "3  Pepe  100  Carretillero   Orduña"
      ]
     },
     "execution_count": 127,
     "metadata": {},
     "output_type": "execute_result"
    }
   ],
   "source": [
    "df.age = df.age + 10 # or df.loc[:, 'age'] = df.age + 10\n",
    "df"
   ]
  },
  {
   "cell_type": "raw",
   "id": "a8b6cc3f-e750-44a9-a975-cab0269c0305",
   "metadata": {},
   "source": [
    "APLICANDO una FUNCION a un campo:"
   ]
  },
  {
   "cell_type": "code",
   "execution_count": 128,
   "id": "9cf291f2-0e34-46bc-8ef6-8b13ade58101",
   "metadata": {},
   "outputs": [],
   "source": [
    "def myfunction(x):\n",
    "    if x % 3 == 0:\n",
    "        return x ** 2\n",
    "    else:\n",
    "        return x // 2"
   ]
  },
  {
   "cell_type": "code",
   "execution_count": 129,
   "id": "78ae6159-7e3b-4b15-9126-f2c2a0781c7e",
   "metadata": {},
   "outputs": [
    {
     "data": {
      "text/html": [
       "<div>\n",
       "<style scoped>\n",
       "    .dataframe tbody tr th:only-of-type {\n",
       "        vertical-align: middle;\n",
       "    }\n",
       "\n",
       "    .dataframe tbody tr th {\n",
       "        vertical-align: top;\n",
       "    }\n",
       "\n",
       "    .dataframe thead th {\n",
       "        text-align: right;\n",
       "    }\n",
       "</style>\n",
       "<table border=\"1\" class=\"dataframe\">\n",
       "  <thead>\n",
       "    <tr style=\"text-align: right;\">\n",
       "      <th></th>\n",
       "      <th>name</th>\n",
       "      <th>age</th>\n",
       "      <th>job</th>\n",
       "      <th>City</th>\n",
       "    </tr>\n",
       "  </thead>\n",
       "  <tbody>\n",
       "    <tr>\n",
       "      <th>0</th>\n",
       "      <td>Paul</td>\n",
       "      <td>32</td>\n",
       "      <td>Peluquero</td>\n",
       "      <td>Llodio</td>\n",
       "    </tr>\n",
       "    <tr>\n",
       "      <th>1</th>\n",
       "      <td>John</td>\n",
       "      <td>576</td>\n",
       "      <td>butanero</td>\n",
       "      <td>Amurrio</td>\n",
       "    </tr>\n",
       "    <tr>\n",
       "      <th>2</th>\n",
       "      <td>Paco</td>\n",
       "      <td>14</td>\n",
       "      <td>fontanero</td>\n",
       "      <td>Orozko</td>\n",
       "    </tr>\n",
       "    <tr>\n",
       "      <th>3</th>\n",
       "      <td>Pepe</td>\n",
       "      <td>50</td>\n",
       "      <td>Carretillero</td>\n",
       "      <td>Orduña</td>\n",
       "    </tr>\n",
       "  </tbody>\n",
       "</table>\n",
       "</div>"
      ],
      "text/plain": [
       "   name  age           job     City\n",
       "0  Paul   32     Peluquero   Llodio\n",
       "1  John  576      butanero  Amurrio\n",
       "2  Paco   14     fontanero   Orozko\n",
       "3  Pepe   50  Carretillero   Orduña"
      ]
     },
     "execution_count": 129,
     "metadata": {},
     "output_type": "execute_result"
    }
   ],
   "source": [
    "#df.age.apply(myfunction)\n",
    "df.age = df.loc[:, 'age'].apply(myfunction)\n",
    "df"
   ]
  },
  {
   "cell_type": "code",
   "execution_count": 130,
   "id": "a2714585-f8d0-480d-a4e3-7bfccb3d03f6",
   "metadata": {},
   "outputs": [],
   "source": [
    "def myfunction_2(x):\n",
    "    if x.startswith('b'):\n",
    "        return 'No job'\n",
    "    return x"
   ]
  },
  {
   "cell_type": "code",
   "execution_count": 131,
   "id": "2c850d0a-b94f-445b-8d67-3d393960bada",
   "metadata": {},
   "outputs": [
    {
     "data": {
      "text/html": [
       "<div>\n",
       "<style scoped>\n",
       "    .dataframe tbody tr th:only-of-type {\n",
       "        vertical-align: middle;\n",
       "    }\n",
       "\n",
       "    .dataframe tbody tr th {\n",
       "        vertical-align: top;\n",
       "    }\n",
       "\n",
       "    .dataframe thead th {\n",
       "        text-align: right;\n",
       "    }\n",
       "</style>\n",
       "<table border=\"1\" class=\"dataframe\">\n",
       "  <thead>\n",
       "    <tr style=\"text-align: right;\">\n",
       "      <th></th>\n",
       "      <th>name</th>\n",
       "      <th>age</th>\n",
       "      <th>job</th>\n",
       "      <th>City</th>\n",
       "    </tr>\n",
       "  </thead>\n",
       "  <tbody>\n",
       "    <tr>\n",
       "      <th>0</th>\n",
       "      <td>Paul</td>\n",
       "      <td>32</td>\n",
       "      <td>Peluquero</td>\n",
       "      <td>Llodio</td>\n",
       "    </tr>\n",
       "    <tr>\n",
       "      <th>1</th>\n",
       "      <td>John</td>\n",
       "      <td>576</td>\n",
       "      <td>No job</td>\n",
       "      <td>Amurrio</td>\n",
       "    </tr>\n",
       "    <tr>\n",
       "      <th>2</th>\n",
       "      <td>Paco</td>\n",
       "      <td>14</td>\n",
       "      <td>fontanero</td>\n",
       "      <td>Orozko</td>\n",
       "    </tr>\n",
       "    <tr>\n",
       "      <th>3</th>\n",
       "      <td>Pepe</td>\n",
       "      <td>50</td>\n",
       "      <td>Carretillero</td>\n",
       "      <td>Orduña</td>\n",
       "    </tr>\n",
       "  </tbody>\n",
       "</table>\n",
       "</div>"
      ],
      "text/plain": [
       "   name  age           job     City\n",
       "0  Paul   32     Peluquero   Llodio\n",
       "1  John  576        No job  Amurrio\n",
       "2  Paco   14     fontanero   Orozko\n",
       "3  Pepe   50  Carretillero   Orduña"
      ]
     },
     "execution_count": 131,
     "metadata": {},
     "output_type": "execute_result"
    }
   ],
   "source": [
    "df.job = df.job.apply(myfunction_2)\n",
    "df"
   ]
  },
  {
   "cell_type": "raw",
   "id": "58f6467f-a4f2-4818-9b85-d2c69aff788e",
   "metadata": {},
   "source": [
    "APLICANDO una FUNCION LAMBDA:\n",
    "el parámetro axis en el método apply especifica si la función debe aplicarse a las filas o a las columnas del DataFrame.\n",
    "\n",
    "axis=0: Aplica la función a cada columna.\n",
    "axis=1: Aplica la función a cada fila."
   ]
  },
  {
   "cell_type": "code",
   "execution_count": 132,
   "id": "0edc341d-d053-4abe-841b-f11c6bc726b8",
   "metadata": {},
   "outputs": [
    {
     "data": {
      "text/html": [
       "<div>\n",
       "<style scoped>\n",
       "    .dataframe tbody tr th:only-of-type {\n",
       "        vertical-align: middle;\n",
       "    }\n",
       "\n",
       "    .dataframe tbody tr th {\n",
       "        vertical-align: top;\n",
       "    }\n",
       "\n",
       "    .dataframe thead th {\n",
       "        text-align: right;\n",
       "    }\n",
       "</style>\n",
       "<table border=\"1\" class=\"dataframe\">\n",
       "  <thead>\n",
       "    <tr style=\"text-align: right;\">\n",
       "      <th></th>\n",
       "      <th>name</th>\n",
       "      <th>age</th>\n",
       "      <th>job</th>\n",
       "      <th>City</th>\n",
       "      <th>Summary</th>\n",
       "    </tr>\n",
       "  </thead>\n",
       "  <tbody>\n",
       "    <tr>\n",
       "      <th>0</th>\n",
       "      <td>Paul</td>\n",
       "      <td>32</td>\n",
       "      <td>Peluquero</td>\n",
       "      <td>Llodio</td>\n",
       "      <td>Name: Paul - City: Llodio</td>\n",
       "    </tr>\n",
       "    <tr>\n",
       "      <th>1</th>\n",
       "      <td>John</td>\n",
       "      <td>576</td>\n",
       "      <td>No job</td>\n",
       "      <td>Amurrio</td>\n",
       "      <td>Name: John - City: Amurrio</td>\n",
       "    </tr>\n",
       "    <tr>\n",
       "      <th>2</th>\n",
       "      <td>Paco</td>\n",
       "      <td>14</td>\n",
       "      <td>fontanero</td>\n",
       "      <td>Orozko</td>\n",
       "      <td>Name: Paco - City: Orozko</td>\n",
       "    </tr>\n",
       "    <tr>\n",
       "      <th>3</th>\n",
       "      <td>Pepe</td>\n",
       "      <td>50</td>\n",
       "      <td>Carretillero</td>\n",
       "      <td>Orduña</td>\n",
       "      <td>Name: Pepe - City: Orduña</td>\n",
       "    </tr>\n",
       "  </tbody>\n",
       "</table>\n",
       "</div>"
      ],
      "text/plain": [
       "   name  age           job     City                     Summary\n",
       "0  Paul   32     Peluquero   Llodio   Name: Paul - City: Llodio\n",
       "1  John  576        No job  Amurrio  Name: John - City: Amurrio\n",
       "2  Paco   14     fontanero   Orozko   Name: Paco - City: Orozko\n",
       "3  Pepe   50  Carretillero   Orduña   Name: Pepe - City: Orduña"
      ]
     },
     "execution_count": 132,
     "metadata": {},
     "output_type": "execute_result"
    }
   ],
   "source": [
    "#df['Summary'] = df.apply(lambda row: f'Name: {row[\"name\"]} - City: {row[\"City\"]}', axis=1)\n",
    "df['Summary'] = df.apply(lambda row: f'Name: {row['name']} - City: {row.City}', axis=1)\n",
    "df"
   ]
  },
  {
   "cell_type": "raw",
   "id": "1c22ae95-f0f1-42ef-be22-67dde3feafdc",
   "metadata": {},
   "source": [
    "BORRANDO una columna:"
   ]
  },
  {
   "cell_type": "code",
   "execution_count": 133,
   "id": "bdb6ceff-d8c0-4729-906b-5ace0b214668",
   "metadata": {},
   "outputs": [
    {
     "data": {
      "text/html": [
       "<div>\n",
       "<style scoped>\n",
       "    .dataframe tbody tr th:only-of-type {\n",
       "        vertical-align: middle;\n",
       "    }\n",
       "\n",
       "    .dataframe tbody tr th {\n",
       "        vertical-align: top;\n",
       "    }\n",
       "\n",
       "    .dataframe thead th {\n",
       "        text-align: right;\n",
       "    }\n",
       "</style>\n",
       "<table border=\"1\" class=\"dataframe\">\n",
       "  <thead>\n",
       "    <tr style=\"text-align: right;\">\n",
       "      <th></th>\n",
       "      <th>name</th>\n",
       "      <th>age</th>\n",
       "      <th>job</th>\n",
       "      <th>City</th>\n",
       "    </tr>\n",
       "  </thead>\n",
       "  <tbody>\n",
       "    <tr>\n",
       "      <th>0</th>\n",
       "      <td>Paul</td>\n",
       "      <td>32</td>\n",
       "      <td>Peluquero</td>\n",
       "      <td>Llodio</td>\n",
       "    </tr>\n",
       "    <tr>\n",
       "      <th>1</th>\n",
       "      <td>John</td>\n",
       "      <td>576</td>\n",
       "      <td>No job</td>\n",
       "      <td>Amurrio</td>\n",
       "    </tr>\n",
       "    <tr>\n",
       "      <th>2</th>\n",
       "      <td>Paco</td>\n",
       "      <td>14</td>\n",
       "      <td>fontanero</td>\n",
       "      <td>Orozko</td>\n",
       "    </tr>\n",
       "    <tr>\n",
       "      <th>3</th>\n",
       "      <td>Pepe</td>\n",
       "      <td>50</td>\n",
       "      <td>Carretillero</td>\n",
       "      <td>Orduña</td>\n",
       "    </tr>\n",
       "  </tbody>\n",
       "</table>\n",
       "</div>"
      ],
      "text/plain": [
       "   name  age           job     City\n",
       "0  Paul   32     Peluquero   Llodio\n",
       "1  John  576        No job  Amurrio\n",
       "2  Paco   14     fontanero   Orozko\n",
       "3  Pepe   50  Carretillero   Orduña"
      ]
     },
     "execution_count": 133,
     "metadata": {},
     "output_type": "execute_result"
    }
   ],
   "source": [
    "df.drop('Summary', axis = 1)"
   ]
  },
  {
   "cell_type": "raw",
   "id": "036a693b-a55f-49b1-8f3d-6a6817d89619",
   "metadata": {},
   "source": [
    "Si queremos borrar la columna definitivamente del dataframe: df = df.drop('Summary', axis = 1)"
   ]
  },
  {
   "cell_type": "code",
   "execution_count": 134,
   "id": "0b8e9fc8-1635-4bbb-ba7a-69e3947391cc",
   "metadata": {},
   "outputs": [
    {
     "data": {
      "text/html": [
       "<div>\n",
       "<style scoped>\n",
       "    .dataframe tbody tr th:only-of-type {\n",
       "        vertical-align: middle;\n",
       "    }\n",
       "\n",
       "    .dataframe tbody tr th {\n",
       "        vertical-align: top;\n",
       "    }\n",
       "\n",
       "    .dataframe thead th {\n",
       "        text-align: right;\n",
       "    }\n",
       "</style>\n",
       "<table border=\"1\" class=\"dataframe\">\n",
       "  <thead>\n",
       "    <tr style=\"text-align: right;\">\n",
       "      <th></th>\n",
       "      <th>name</th>\n",
       "      <th>City</th>\n",
       "      <th>Summary</th>\n",
       "    </tr>\n",
       "  </thead>\n",
       "  <tbody>\n",
       "    <tr>\n",
       "      <th>0</th>\n",
       "      <td>Paul</td>\n",
       "      <td>Llodio</td>\n",
       "      <td>Name: Paul - City: Llodio</td>\n",
       "    </tr>\n",
       "    <tr>\n",
       "      <th>1</th>\n",
       "      <td>John</td>\n",
       "      <td>Amurrio</td>\n",
       "      <td>Name: John - City: Amurrio</td>\n",
       "    </tr>\n",
       "    <tr>\n",
       "      <th>2</th>\n",
       "      <td>Paco</td>\n",
       "      <td>Orozko</td>\n",
       "      <td>Name: Paco - City: Orozko</td>\n",
       "    </tr>\n",
       "    <tr>\n",
       "      <th>3</th>\n",
       "      <td>Pepe</td>\n",
       "      <td>Orduña</td>\n",
       "      <td>Name: Pepe - City: Orduña</td>\n",
       "    </tr>\n",
       "  </tbody>\n",
       "</table>\n",
       "</div>"
      ],
      "text/plain": [
       "   name     City                     Summary\n",
       "0  Paul   Llodio   Name: Paul - City: Llodio\n",
       "1  John  Amurrio  Name: John - City: Amurrio\n",
       "2  Paco   Orozko   Name: Paco - City: Orozko\n",
       "3  Pepe   Orduña   Name: Pepe - City: Orduña"
      ]
     },
     "execution_count": 134,
     "metadata": {},
     "output_type": "execute_result"
    }
   ],
   "source": [
    "df.drop(['age', 'job'], axis = 1)"
   ]
  },
  {
   "cell_type": "raw",
   "id": "cf0fa105-acca-49f5-8b7e-75d5d5e0ea6b",
   "metadata": {},
   "source": [
    "CLEANNING valores del dataframe:"
   ]
  },
  {
   "cell_type": "code",
   "execution_count": 135,
   "id": "63dbcff6-fac6-472e-bce4-8e9c28841b86",
   "metadata": {},
   "outputs": [
    {
     "data": {
      "text/html": [
       "<div>\n",
       "<style scoped>\n",
       "    .dataframe tbody tr th:only-of-type {\n",
       "        vertical-align: middle;\n",
       "    }\n",
       "\n",
       "    .dataframe tbody tr th {\n",
       "        vertical-align: top;\n",
       "    }\n",
       "\n",
       "    .dataframe thead th {\n",
       "        text-align: right;\n",
       "    }\n",
       "</style>\n",
       "<table border=\"1\" class=\"dataframe\">\n",
       "  <thead>\n",
       "    <tr style=\"text-align: right;\">\n",
       "      <th></th>\n",
       "      <th>name</th>\n",
       "      <th>age</th>\n",
       "      <th>job</th>\n",
       "      <th>City</th>\n",
       "      <th>Summary</th>\n",
       "    </tr>\n",
       "  </thead>\n",
       "  <tbody>\n",
       "    <tr>\n",
       "      <th>0</th>\n",
       "      <td>Paul</td>\n",
       "      <td>32.0</td>\n",
       "      <td>Peluquero</td>\n",
       "      <td>Llodio</td>\n",
       "      <td>Name: Paul - City: Llodio</td>\n",
       "    </tr>\n",
       "    <tr>\n",
       "      <th>1</th>\n",
       "      <td>John</td>\n",
       "      <td>576.0</td>\n",
       "      <td>No job</td>\n",
       "      <td>Amurrio</td>\n",
       "      <td>Name: John - City: Amurrio</td>\n",
       "    </tr>\n",
       "    <tr>\n",
       "      <th>2</th>\n",
       "      <td>Paco</td>\n",
       "      <td>14.0</td>\n",
       "      <td>fontanero</td>\n",
       "      <td>Orozko</td>\n",
       "      <td>Name: Paco - City: Orozko</td>\n",
       "    </tr>\n",
       "    <tr>\n",
       "      <th>3</th>\n",
       "      <td>Pepe</td>\n",
       "      <td>NaN</td>\n",
       "      <td>Carretillero</td>\n",
       "      <td>Orduña</td>\n",
       "      <td>Name: Pepe - City: Orduña</td>\n",
       "    </tr>\n",
       "  </tbody>\n",
       "</table>\n",
       "</div>"
      ],
      "text/plain": [
       "   name    age           job     City                     Summary\n",
       "0  Paul   32.0     Peluquero   Llodio   Name: Paul - City: Llodio\n",
       "1  John  576.0        No job  Amurrio  Name: John - City: Amurrio\n",
       "2  Paco   14.0     fontanero   Orozko   Name: Paco - City: Orozko\n",
       "3  Pepe    NaN  Carretillero   Orduña   Name: Pepe - City: Orduña"
      ]
     },
     "execution_count": 135,
     "metadata": {},
     "output_type": "execute_result"
    }
   ],
   "source": [
    "df.at[3, 'age'] = float('nan')\n",
    "df"
   ]
  },
  {
   "cell_type": "code",
   "execution_count": 136,
   "id": "5222d72c-6133-4049-89a2-f42f83c400ee",
   "metadata": {},
   "outputs": [
    {
     "data": {
      "text/html": [
       "<div>\n",
       "<style scoped>\n",
       "    .dataframe tbody tr th:only-of-type {\n",
       "        vertical-align: middle;\n",
       "    }\n",
       "\n",
       "    .dataframe tbody tr th {\n",
       "        vertical-align: top;\n",
       "    }\n",
       "\n",
       "    .dataframe thead th {\n",
       "        text-align: right;\n",
       "    }\n",
       "</style>\n",
       "<table border=\"1\" class=\"dataframe\">\n",
       "  <thead>\n",
       "    <tr style=\"text-align: right;\">\n",
       "      <th></th>\n",
       "      <th>name</th>\n",
       "      <th>age</th>\n",
       "      <th>job</th>\n",
       "      <th>City</th>\n",
       "      <th>Summary</th>\n",
       "    </tr>\n",
       "  </thead>\n",
       "  <tbody>\n",
       "    <tr>\n",
       "      <th>0</th>\n",
       "      <td>Paul</td>\n",
       "      <td>32.0</td>\n",
       "      <td>Peluquero</td>\n",
       "      <td>Llodio</td>\n",
       "      <td>Name: Paul - City: Llodio</td>\n",
       "    </tr>\n",
       "    <tr>\n",
       "      <th>1</th>\n",
       "      <td>John</td>\n",
       "      <td>576.0</td>\n",
       "      <td>No job</td>\n",
       "      <td>Amurrio</td>\n",
       "      <td>Name: John - City: Amurrio</td>\n",
       "    </tr>\n",
       "    <tr>\n",
       "      <th>2</th>\n",
       "      <td>Paco</td>\n",
       "      <td>14.0</td>\n",
       "      <td>fontanero</td>\n",
       "      <td>Orozko</td>\n",
       "      <td>Name: Paco - City: Orozko</td>\n",
       "    </tr>\n",
       "  </tbody>\n",
       "</table>\n",
       "</div>"
      ],
      "text/plain": [
       "   name    age        job     City                     Summary\n",
       "0  Paul   32.0  Peluquero   Llodio   Name: Paul - City: Llodio\n",
       "1  John  576.0     No job  Amurrio  Name: John - City: Amurrio\n",
       "2  Paco   14.0  fontanero   Orozko   Name: Paco - City: Orozko"
      ]
     },
     "execution_count": 136,
     "metadata": {},
     "output_type": "execute_result"
    }
   ],
   "source": [
    "df.dropna() #CUIDADO, no estamos modificando el Dataframe ya que no ponemos df = df.drpna()"
   ]
  },
  {
   "cell_type": "raw",
   "id": "7d4ac50c-e72c-4f0d-9d70-d5f6219df66b",
   "metadata": {},
   "source": [
    "Existe la posibilidad de sustituir un valor nulo por un valor dado:"
   ]
  },
  {
   "cell_type": "code",
   "execution_count": 137,
   "id": "285b9be6-5e47-4f03-9903-12f4b914e1f6",
   "metadata": {},
   "outputs": [
    {
     "data": {
      "text/plain": [
       "0     32.000000\n",
       "1    576.000000\n",
       "2     14.000000\n",
       "3    207.333333\n",
       "Name: age, dtype: float64"
      ]
     },
     "execution_count": 137,
     "metadata": {},
     "output_type": "execute_result"
    }
   ],
   "source": [
    "#df.fillna(0) #Rellena todos los valores nulos con 0\n",
    "df.age.fillna(df.age.mean()) #Rellena el valor nulo con la media del campo 'age'"
   ]
  },
  {
   "cell_type": "raw",
   "id": "b38a923f-f469-4300-90ae-e6485e2271ec",
   "metadata": {},
   "source": [
    "Para mostrar que valores del Dataframe son no validos:"
   ]
  },
  {
   "cell_type": "code",
   "execution_count": 138,
   "id": "a9363b46-8d35-4f6d-8727-92900e34fe67",
   "metadata": {},
   "outputs": [
    {
     "data": {
      "text/html": [
       "<div>\n",
       "<style scoped>\n",
       "    .dataframe tbody tr th:only-of-type {\n",
       "        vertical-align: middle;\n",
       "    }\n",
       "\n",
       "    .dataframe tbody tr th {\n",
       "        vertical-align: top;\n",
       "    }\n",
       "\n",
       "    .dataframe thead th {\n",
       "        text-align: right;\n",
       "    }\n",
       "</style>\n",
       "<table border=\"1\" class=\"dataframe\">\n",
       "  <thead>\n",
       "    <tr style=\"text-align: right;\">\n",
       "      <th></th>\n",
       "      <th>name</th>\n",
       "      <th>age</th>\n",
       "      <th>job</th>\n",
       "      <th>City</th>\n",
       "      <th>Summary</th>\n",
       "    </tr>\n",
       "  </thead>\n",
       "  <tbody>\n",
       "    <tr>\n",
       "      <th>0</th>\n",
       "      <td>True</td>\n",
       "      <td>True</td>\n",
       "      <td>True</td>\n",
       "      <td>True</td>\n",
       "      <td>True</td>\n",
       "    </tr>\n",
       "    <tr>\n",
       "      <th>1</th>\n",
       "      <td>True</td>\n",
       "      <td>True</td>\n",
       "      <td>True</td>\n",
       "      <td>True</td>\n",
       "      <td>True</td>\n",
       "    </tr>\n",
       "    <tr>\n",
       "      <th>2</th>\n",
       "      <td>True</td>\n",
       "      <td>True</td>\n",
       "      <td>True</td>\n",
       "      <td>True</td>\n",
       "      <td>True</td>\n",
       "    </tr>\n",
       "    <tr>\n",
       "      <th>3</th>\n",
       "      <td>True</td>\n",
       "      <td>False</td>\n",
       "      <td>True</td>\n",
       "      <td>True</td>\n",
       "      <td>True</td>\n",
       "    </tr>\n",
       "  </tbody>\n",
       "</table>\n",
       "</div>"
      ],
      "text/plain": [
       "   name    age   job  City  Summary\n",
       "0  True   True  True  True     True\n",
       "1  True   True  True  True     True\n",
       "2  True   True  True  True     True\n",
       "3  True  False  True  True     True"
      ]
     },
     "execution_count": 138,
     "metadata": {},
     "output_type": "execute_result"
    }
   ],
   "source": [
    "df.notna()"
   ]
  },
  {
   "cell_type": "code",
   "execution_count": 139,
   "id": "2d084aa9-5700-4497-ba96-c2c34e438565",
   "metadata": {},
   "outputs": [
    {
     "data": {
      "text/html": [
       "<div>\n",
       "<style scoped>\n",
       "    .dataframe tbody tr th:only-of-type {\n",
       "        vertical-align: middle;\n",
       "    }\n",
       "\n",
       "    .dataframe tbody tr th {\n",
       "        vertical-align: top;\n",
       "    }\n",
       "\n",
       "    .dataframe thead th {\n",
       "        text-align: right;\n",
       "    }\n",
       "</style>\n",
       "<table border=\"1\" class=\"dataframe\">\n",
       "  <thead>\n",
       "    <tr style=\"text-align: right;\">\n",
       "      <th></th>\n",
       "      <th>name</th>\n",
       "      <th>age</th>\n",
       "      <th>job</th>\n",
       "      <th>City</th>\n",
       "      <th>Summary</th>\n",
       "    </tr>\n",
       "  </thead>\n",
       "  <tbody>\n",
       "    <tr>\n",
       "      <th>3</th>\n",
       "      <td>Pepe</td>\n",
       "      <td>NaN</td>\n",
       "      <td>Carretillero</td>\n",
       "      <td>Orduña</td>\n",
       "      <td>Name: Pepe - City: Orduña</td>\n",
       "    </tr>\n",
       "  </tbody>\n",
       "</table>\n",
       "</div>"
      ],
      "text/plain": [
       "   name  age           job    City                    Summary\n",
       "3  Pepe  NaN  Carretillero  Orduña  Name: Pepe - City: Orduña"
      ]
     },
     "execution_count": 139,
     "metadata": {},
     "output_type": "execute_result"
    }
   ],
   "source": [
    "df[df['age'].isna()] # Obtenemos los registros donde el valor de age es 'NaN'"
   ]
  },
  {
   "cell_type": "raw",
   "id": "919c74bb-963a-4401-8412-83a232e149d6",
   "metadata": {},
   "source": [
    "Para NAVEGAR por el Dataframe a traves de sus registros:"
   ]
  },
  {
   "cell_type": "code",
   "execution_count": 140,
   "id": "c380fe13-dd3a-49c8-b010-10f1de046144",
   "metadata": {},
   "outputs": [
    {
     "name": "stdout",
     "output_type": "stream",
     "text": [
      "Name: Paul - City: Llodio\n",
      "Name: John - City: Amurrio\n",
      "Name: Paco - City: Orozko\n",
      "Name: Pepe - City: Orduña\n"
     ]
    }
   ],
   "source": [
    "for index, row in df.iterrows():\n",
    "    #print(index)\n",
    "    #print(row) # Imprime los diferentes valores por filas (en horizontal en el dataframe)\n",
    "    print(row['Summary'])"
   ]
  },
  {
   "cell_type": "raw",
   "id": "3a70009b-40be-437f-8417-f64ce801d97f",
   "metadata": {},
   "source": [
    "Para NAVEGAR por el Dataframe a traves de sus columnas:"
   ]
  },
  {
   "cell_type": "code",
   "execution_count": 141,
   "id": "607b737e-74ef-4cdb-9da5-bcfae3b6b8ca",
   "metadata": {},
   "outputs": [
    {
     "name": "stdout",
     "output_type": "stream",
     "text": [
      "Paul\n",
      "32.0\n",
      "Peluquero\n",
      "Llodio\n",
      "Name: Paul - City: Llodio\n"
     ]
    }
   ],
   "source": [
    "for index, col in df.items():\n",
    "    #print(index) #Obtenemos el nombre de las columnas\n",
    "    #print(col) #Imprime los diferentes valores por columnas (en vertical en el dataframe)\n",
    "    print(col[0])"
   ]
  },
  {
   "cell_type": "raw",
   "id": "4d4ddec2-04e7-41d9-a23e-45985773475a",
   "metadata": {},
   "source": [
    "CONSULTANDO valores del Dataframe. Tener en cuenta que el resultado de estas consultas son valores booleanos (True / Falso)"
   ]
  },
  {
   "cell_type": "code",
   "execution_count": 142,
   "id": "f3826f2c-ffaf-4957-ac17-2d7da4caf357",
   "metadata": {},
   "outputs": [
    {
     "data": {
      "text/html": [
       "<div>\n",
       "<style scoped>\n",
       "    .dataframe tbody tr th:only-of-type {\n",
       "        vertical-align: middle;\n",
       "    }\n",
       "\n",
       "    .dataframe tbody tr th {\n",
       "        vertical-align: top;\n",
       "    }\n",
       "\n",
       "    .dataframe thead th {\n",
       "        text-align: right;\n",
       "    }\n",
       "</style>\n",
       "<table border=\"1\" class=\"dataframe\">\n",
       "  <thead>\n",
       "    <tr style=\"text-align: right;\">\n",
       "      <th></th>\n",
       "      <th>name</th>\n",
       "      <th>age</th>\n",
       "      <th>job</th>\n",
       "      <th>City</th>\n",
       "      <th>Summary</th>\n",
       "    </tr>\n",
       "  </thead>\n",
       "  <tbody>\n",
       "    <tr>\n",
       "      <th>0</th>\n",
       "      <td>Paul</td>\n",
       "      <td>32.0</td>\n",
       "      <td>Peluquero</td>\n",
       "      <td>Llodio</td>\n",
       "      <td>Name: Paul - City: Llodio</td>\n",
       "    </tr>\n",
       "    <tr>\n",
       "      <th>1</th>\n",
       "      <td>John</td>\n",
       "      <td>576.0</td>\n",
       "      <td>No job</td>\n",
       "      <td>Amurrio</td>\n",
       "      <td>Name: John - City: Amurrio</td>\n",
       "    </tr>\n",
       "    <tr>\n",
       "      <th>2</th>\n",
       "      <td>Paco</td>\n",
       "      <td>14.0</td>\n",
       "      <td>fontanero</td>\n",
       "      <td>Orozko</td>\n",
       "      <td>Name: Paco - City: Orozko</td>\n",
       "    </tr>\n",
       "    <tr>\n",
       "      <th>3</th>\n",
       "      <td>Pepe</td>\n",
       "      <td>NaN</td>\n",
       "      <td>Carretillero</td>\n",
       "      <td>Orduña</td>\n",
       "      <td>Name: Pepe - City: Orduña</td>\n",
       "    </tr>\n",
       "  </tbody>\n",
       "</table>\n",
       "</div>"
      ],
      "text/plain": [
       "   name    age           job     City                     Summary\n",
       "0  Paul   32.0     Peluquero   Llodio   Name: Paul - City: Llodio\n",
       "1  John  576.0        No job  Amurrio  Name: John - City: Amurrio\n",
       "2  Paco   14.0     fontanero   Orozko   Name: Paco - City: Orozko\n",
       "3  Pepe    NaN  Carretillero   Orduña   Name: Pepe - City: Orduña"
      ]
     },
     "execution_count": 142,
     "metadata": {},
     "output_type": "execute_result"
    }
   ],
   "source": [
    "df"
   ]
  },
  {
   "cell_type": "code",
   "execution_count": 143,
   "id": "a688ec58-2485-4a6c-a558-1c9108aaf72b",
   "metadata": {},
   "outputs": [
    {
     "data": {
      "text/plain": [
       "0     True\n",
       "1     True\n",
       "2    False\n",
       "3    False\n",
       "Name: age, dtype: bool"
      ]
     },
     "execution_count": 143,
     "metadata": {},
     "output_type": "execute_result"
    }
   ],
   "source": [
    "df.age > 30"
   ]
  },
  {
   "cell_type": "code",
   "execution_count": 144,
   "id": "a02eaa99-addb-467c-b7c0-ce8030a9331f",
   "metadata": {},
   "outputs": [
    {
     "data": {
      "text/html": [
       "<div>\n",
       "<style scoped>\n",
       "    .dataframe tbody tr th:only-of-type {\n",
       "        vertical-align: middle;\n",
       "    }\n",
       "\n",
       "    .dataframe tbody tr th {\n",
       "        vertical-align: top;\n",
       "    }\n",
       "\n",
       "    .dataframe thead th {\n",
       "        text-align: right;\n",
       "    }\n",
       "</style>\n",
       "<table border=\"1\" class=\"dataframe\">\n",
       "  <thead>\n",
       "    <tr style=\"text-align: right;\">\n",
       "      <th></th>\n",
       "      <th>name</th>\n",
       "      <th>age</th>\n",
       "      <th>job</th>\n",
       "      <th>City</th>\n",
       "      <th>Summary</th>\n",
       "    </tr>\n",
       "  </thead>\n",
       "  <tbody>\n",
       "    <tr>\n",
       "      <th>0</th>\n",
       "      <td>Paul</td>\n",
       "      <td>32.0</td>\n",
       "      <td>Peluquero</td>\n",
       "      <td>Llodio</td>\n",
       "      <td>Name: Paul - City: Llodio</td>\n",
       "    </tr>\n",
       "    <tr>\n",
       "      <th>1</th>\n",
       "      <td>John</td>\n",
       "      <td>576.0</td>\n",
       "      <td>No job</td>\n",
       "      <td>Amurrio</td>\n",
       "      <td>Name: John - City: Amurrio</td>\n",
       "    </tr>\n",
       "  </tbody>\n",
       "</table>\n",
       "</div>"
      ],
      "text/plain": [
       "   name    age        job     City                     Summary\n",
       "0  Paul   32.0  Peluquero   Llodio   Name: Paul - City: Llodio\n",
       "1  John  576.0     No job  Amurrio  Name: John - City: Amurrio"
      ]
     },
     "execution_count": 144,
     "metadata": {},
     "output_type": "execute_result"
    }
   ],
   "source": [
    "df[df.age > 30]"
   ]
  },
  {
   "cell_type": "code",
   "execution_count": 145,
   "id": "c29c89b9-91d6-4b79-b6a4-c381ccb43179",
   "metadata": {},
   "outputs": [
    {
     "data": {
      "text/html": [
       "<div>\n",
       "<style scoped>\n",
       "    .dataframe tbody tr th:only-of-type {\n",
       "        vertical-align: middle;\n",
       "    }\n",
       "\n",
       "    .dataframe tbody tr th {\n",
       "        vertical-align: top;\n",
       "    }\n",
       "\n",
       "    .dataframe thead th {\n",
       "        text-align: right;\n",
       "    }\n",
       "</style>\n",
       "<table border=\"1\" class=\"dataframe\">\n",
       "  <thead>\n",
       "    <tr style=\"text-align: right;\">\n",
       "      <th></th>\n",
       "      <th>name</th>\n",
       "      <th>age</th>\n",
       "      <th>job</th>\n",
       "      <th>City</th>\n",
       "      <th>Summary</th>\n",
       "    </tr>\n",
       "  </thead>\n",
       "  <tbody>\n",
       "    <tr>\n",
       "      <th>0</th>\n",
       "      <td>Paul</td>\n",
       "      <td>32.0</td>\n",
       "      <td>Peluquero</td>\n",
       "      <td>Llodio</td>\n",
       "      <td>Name: Paul - City: Llodio</td>\n",
       "    </tr>\n",
       "  </tbody>\n",
       "</table>\n",
       "</div>"
      ],
      "text/plain": [
       "   name   age        job    City                    Summary\n",
       "0  Paul  32.0  Peluquero  Llodio  Name: Paul - City: Llodio"
      ]
     },
     "execution_count": 145,
     "metadata": {},
     "output_type": "execute_result"
    }
   ],
   "source": [
    "df[(df.age > 30) & (df.City == 'Llodio')]"
   ]
  },
  {
   "cell_type": "code",
   "execution_count": 157,
   "id": "f545f259-1367-4729-8dd4-7573877d98b7",
   "metadata": {},
   "outputs": [
    {
     "data": {
      "text/html": [
       "<div>\n",
       "<style scoped>\n",
       "    .dataframe tbody tr th:only-of-type {\n",
       "        vertical-align: middle;\n",
       "    }\n",
       "\n",
       "    .dataframe tbody tr th {\n",
       "        vertical-align: top;\n",
       "    }\n",
       "\n",
       "    .dataframe thead th {\n",
       "        text-align: right;\n",
       "    }\n",
       "</style>\n",
       "<table border=\"1\" class=\"dataframe\">\n",
       "  <thead>\n",
       "    <tr style=\"text-align: right;\">\n",
       "      <th></th>\n",
       "      <th>name</th>\n",
       "      <th>age</th>\n",
       "      <th>job</th>\n",
       "      <th>City</th>\n",
       "      <th>Summary</th>\n",
       "      <th>birthday</th>\n",
       "    </tr>\n",
       "  </thead>\n",
       "  <tbody>\n",
       "    <tr>\n",
       "      <th>0</th>\n",
       "      <td>Paul</td>\n",
       "      <td>32.0</td>\n",
       "      <td>Peluquero</td>\n",
       "      <td>Llodio</td>\n",
       "      <td>Name: Paul - City: Llodio</td>\n",
       "      <td>1993-02-15 12:49:01.640480</td>\n",
       "    </tr>\n",
       "  </tbody>\n",
       "</table>\n",
       "</div>"
      ],
      "text/plain": [
       "   name   age        job    City                    Summary  \\\n",
       "0  Paul  32.0  Peluquero  Llodio  Name: Paul - City: Llodio   \n",
       "\n",
       "                    birthday  \n",
       "0 1993-02-15 12:49:01.640480  "
      ]
     },
     "execution_count": 157,
     "metadata": {},
     "output_type": "execute_result"
    }
   ],
   "source": [
    "df.query(\"age > 30 & City == 'Llodio'\") # Alternativa más legible pero con menos opciones que la anterior"
   ]
  },
  {
   "cell_type": "raw",
   "id": "1ea957d1-ae96-4c58-b613-63772ab12dc3",
   "metadata": {},
   "source": [
    "TRABAJO con DATETIME values"
   ]
  },
  {
   "cell_type": "code",
   "execution_count": 149,
   "id": "6c341c21-f905-4128-989e-ab69dd45ae41",
   "metadata": {},
   "outputs": [
    {
     "data": {
      "text/html": [
       "<div>\n",
       "<style scoped>\n",
       "    .dataframe tbody tr th:only-of-type {\n",
       "        vertical-align: middle;\n",
       "    }\n",
       "\n",
       "    .dataframe tbody tr th {\n",
       "        vertical-align: top;\n",
       "    }\n",
       "\n",
       "    .dataframe thead th {\n",
       "        text-align: right;\n",
       "    }\n",
       "</style>\n",
       "<table border=\"1\" class=\"dataframe\">\n",
       "  <thead>\n",
       "    <tr style=\"text-align: right;\">\n",
       "      <th></th>\n",
       "      <th>name</th>\n",
       "      <th>age</th>\n",
       "      <th>job</th>\n",
       "      <th>City</th>\n",
       "      <th>Summary</th>\n",
       "    </tr>\n",
       "  </thead>\n",
       "  <tbody>\n",
       "    <tr>\n",
       "      <th>0</th>\n",
       "      <td>Paul</td>\n",
       "      <td>32.0</td>\n",
       "      <td>Peluquero</td>\n",
       "      <td>Llodio</td>\n",
       "      <td>Name: Paul - City: Llodio</td>\n",
       "    </tr>\n",
       "    <tr>\n",
       "      <th>1</th>\n",
       "      <td>John</td>\n",
       "      <td>50.0</td>\n",
       "      <td>No job</td>\n",
       "      <td>Amurrio</td>\n",
       "      <td>Name: John - City: Amurrio</td>\n",
       "    </tr>\n",
       "    <tr>\n",
       "      <th>2</th>\n",
       "      <td>Paco</td>\n",
       "      <td>14.0</td>\n",
       "      <td>fontanero</td>\n",
       "      <td>Orozko</td>\n",
       "      <td>Name: Paco - City: Orozko</td>\n",
       "    </tr>\n",
       "    <tr>\n",
       "      <th>3</th>\n",
       "      <td>Pepe</td>\n",
       "      <td>25.0</td>\n",
       "      <td>Carretillero</td>\n",
       "      <td>Orduña</td>\n",
       "      <td>Name: Pepe - City: Orduña</td>\n",
       "    </tr>\n",
       "  </tbody>\n",
       "</table>\n",
       "</div>"
      ],
      "text/plain": [
       "   name   age           job     City                     Summary\n",
       "0  Paul  32.0     Peluquero   Llodio   Name: Paul - City: Llodio\n",
       "1  John  50.0        No job  Amurrio  Name: John - City: Amurrio\n",
       "2  Paco  14.0     fontanero   Orozko   Name: Paco - City: Orozko\n",
       "3  Pepe  25.0  Carretillero   Orduña   Name: Pepe - City: Orduña"
      ]
     },
     "execution_count": 149,
     "metadata": {},
     "output_type": "execute_result"
    }
   ],
   "source": [
    "df.age = df.age.fillna(25)\n",
    "df.loc[df.age > 100, 'age'] = 50 \n",
    "df"
   ]
  },
  {
   "cell_type": "code",
   "execution_count": 154,
   "id": "d9a6993b-06ff-46be-976e-6ef1d52cf467",
   "metadata": {},
   "outputs": [
    {
     "data": {
      "text/html": [
       "<div>\n",
       "<style scoped>\n",
       "    .dataframe tbody tr th:only-of-type {\n",
       "        vertical-align: middle;\n",
       "    }\n",
       "\n",
       "    .dataframe tbody tr th {\n",
       "        vertical-align: top;\n",
       "    }\n",
       "\n",
       "    .dataframe thead th {\n",
       "        text-align: right;\n",
       "    }\n",
       "</style>\n",
       "<table border=\"1\" class=\"dataframe\">\n",
       "  <thead>\n",
       "    <tr style=\"text-align: right;\">\n",
       "      <th></th>\n",
       "      <th>name</th>\n",
       "      <th>age</th>\n",
       "      <th>job</th>\n",
       "      <th>City</th>\n",
       "      <th>Summary</th>\n",
       "      <th>birthday</th>\n",
       "    </tr>\n",
       "  </thead>\n",
       "  <tbody>\n",
       "    <tr>\n",
       "      <th>0</th>\n",
       "      <td>Paul</td>\n",
       "      <td>32.0</td>\n",
       "      <td>Peluquero</td>\n",
       "      <td>Llodio</td>\n",
       "      <td>Name: Paul - City: Llodio</td>\n",
       "      <td>1993-02-15 12:49:01.640480</td>\n",
       "    </tr>\n",
       "    <tr>\n",
       "      <th>1</th>\n",
       "      <td>John</td>\n",
       "      <td>50.0</td>\n",
       "      <td>No job</td>\n",
       "      <td>Amurrio</td>\n",
       "      <td>Name: John - City: Amurrio</td>\n",
       "      <td>1975-02-20 12:49:01.640487</td>\n",
       "    </tr>\n",
       "    <tr>\n",
       "      <th>2</th>\n",
       "      <td>Paco</td>\n",
       "      <td>14.0</td>\n",
       "      <td>fontanero</td>\n",
       "      <td>Orozko</td>\n",
       "      <td>Name: Paco - City: Orozko</td>\n",
       "      <td>2011-02-11 12:49:01.640488</td>\n",
       "    </tr>\n",
       "    <tr>\n",
       "      <th>3</th>\n",
       "      <td>Pepe</td>\n",
       "      <td>25.0</td>\n",
       "      <td>Carretillero</td>\n",
       "      <td>Orduña</td>\n",
       "      <td>Name: Pepe - City: Orduña</td>\n",
       "      <td>2000-02-14 12:49:01.640489</td>\n",
       "    </tr>\n",
       "  </tbody>\n",
       "</table>\n",
       "</div>"
      ],
      "text/plain": [
       "   name   age           job     City                     Summary  \\\n",
       "0  Paul  32.0     Peluquero   Llodio   Name: Paul - City: Llodio   \n",
       "1  John  50.0        No job  Amurrio  Name: John - City: Amurrio   \n",
       "2  Paco  14.0     fontanero   Orozko   Name: Paco - City: Orozko   \n",
       "3  Pepe  25.0  Carretillero   Orduña   Name: Pepe - City: Orduña   \n",
       "\n",
       "                    birthday  \n",
       "0 1993-02-15 12:49:01.640480  \n",
       "1 1975-02-20 12:49:01.640487  \n",
       "2 2011-02-11 12:49:01.640488  \n",
       "3 2000-02-14 12:49:01.640489  "
      ]
     },
     "execution_count": 154,
     "metadata": {},
     "output_type": "execute_result"
    }
   ],
   "source": [
    "import datetime as dt\n",
    "df['birthday'] = df[\"age\"].apply(lambda x: dt.datetime.now() - dt.timedelta(days = 365 * x))\n",
    "df"
   ]
  },
  {
   "cell_type": "code",
   "execution_count": 155,
   "id": "6df2987e-b093-4c40-bdfe-09a59645edea",
   "metadata": {},
   "outputs": [
    {
     "data": {
      "text/html": [
       "<div>\n",
       "<style scoped>\n",
       "    .dataframe tbody tr th:only-of-type {\n",
       "        vertical-align: middle;\n",
       "    }\n",
       "\n",
       "    .dataframe tbody tr th {\n",
       "        vertical-align: top;\n",
       "    }\n",
       "\n",
       "    .dataframe thead th {\n",
       "        text-align: right;\n",
       "    }\n",
       "</style>\n",
       "<table border=\"1\" class=\"dataframe\">\n",
       "  <thead>\n",
       "    <tr style=\"text-align: right;\">\n",
       "      <th></th>\n",
       "      <th>name</th>\n",
       "      <th>age</th>\n",
       "      <th>job</th>\n",
       "      <th>City</th>\n",
       "      <th>Summary</th>\n",
       "      <th>birthday</th>\n",
       "    </tr>\n",
       "  </thead>\n",
       "  <tbody>\n",
       "    <tr>\n",
       "      <th>2</th>\n",
       "      <td>Paco</td>\n",
       "      <td>14.0</td>\n",
       "      <td>fontanero</td>\n",
       "      <td>Orozko</td>\n",
       "      <td>Name: Paco - City: Orozko</td>\n",
       "      <td>2011-02-11 12:49:01.640488</td>\n",
       "    </tr>\n",
       "    <tr>\n",
       "      <th>3</th>\n",
       "      <td>Pepe</td>\n",
       "      <td>25.0</td>\n",
       "      <td>Carretillero</td>\n",
       "      <td>Orduña</td>\n",
       "      <td>Name: Pepe - City: Orduña</td>\n",
       "      <td>2000-02-14 12:49:01.640489</td>\n",
       "    </tr>\n",
       "  </tbody>\n",
       "</table>\n",
       "</div>"
      ],
      "text/plain": [
       "   name   age           job    City                    Summary  \\\n",
       "2  Paco  14.0     fontanero  Orozko  Name: Paco - City: Orozko   \n",
       "3  Pepe  25.0  Carretillero  Orduña  Name: Pepe - City: Orduña   \n",
       "\n",
       "                    birthday  \n",
       "2 2011-02-11 12:49:01.640488  \n",
       "3 2000-02-14 12:49:01.640489  "
      ]
     },
     "execution_count": 155,
     "metadata": {},
     "output_type": "execute_result"
    }
   ],
   "source": [
    "ages = [14, 25]\n",
    "df[df.age.isin(ages)]"
   ]
  },
  {
   "cell_type": "raw",
   "id": "705fb302-bb51-4fbd-bf15-237ed4608a4a",
   "metadata": {},
   "source": [
    "GROUPING"
   ]
  },
  {
   "cell_type": "code",
   "execution_count": 162,
   "id": "c24e2878-0af8-4d5f-9300-8bcfe5930d17",
   "metadata": {},
   "outputs": [
    {
     "data": {
      "text/html": [
       "<div>\n",
       "<style scoped>\n",
       "    .dataframe tbody tr th:only-of-type {\n",
       "        vertical-align: middle;\n",
       "    }\n",
       "\n",
       "    .dataframe tbody tr th {\n",
       "        vertical-align: top;\n",
       "    }\n",
       "\n",
       "    .dataframe thead th {\n",
       "        text-align: right;\n",
       "    }\n",
       "</style>\n",
       "<table border=\"1\" class=\"dataframe\">\n",
       "  <thead>\n",
       "    <tr style=\"text-align: right;\">\n",
       "      <th></th>\n",
       "      <th>name</th>\n",
       "      <th>age</th>\n",
       "      <th>job</th>\n",
       "      <th>City</th>\n",
       "      <th>Summary</th>\n",
       "      <th>birthday</th>\n",
       "    </tr>\n",
       "  </thead>\n",
       "  <tbody>\n",
       "    <tr>\n",
       "      <th>0</th>\n",
       "      <td>Paul</td>\n",
       "      <td>32.0</td>\n",
       "      <td>No job</td>\n",
       "      <td>Llodio</td>\n",
       "      <td>Name: Paul - City: Llodio</td>\n",
       "      <td>1993-02-15 12:49:01.640480</td>\n",
       "    </tr>\n",
       "    <tr>\n",
       "      <th>1</th>\n",
       "      <td>John</td>\n",
       "      <td>50.0</td>\n",
       "      <td>No job</td>\n",
       "      <td>Amurrio</td>\n",
       "      <td>Name: John - City: Amurrio</td>\n",
       "      <td>1975-02-20 12:49:01.640487</td>\n",
       "    </tr>\n",
       "    <tr>\n",
       "      <th>2</th>\n",
       "      <td>Paco</td>\n",
       "      <td>14.0</td>\n",
       "      <td>fontanero</td>\n",
       "      <td>Orozko</td>\n",
       "      <td>Name: Paco - City: Orozko</td>\n",
       "      <td>2011-02-11 12:49:01.640488</td>\n",
       "    </tr>\n",
       "    <tr>\n",
       "      <th>3</th>\n",
       "      <td>Pepe</td>\n",
       "      <td>25.0</td>\n",
       "      <td>Carretillero</td>\n",
       "      <td>Orduña</td>\n",
       "      <td>Name: Pepe - City: Orduña</td>\n",
       "      <td>2000-02-14 12:49:01.640489</td>\n",
       "    </tr>\n",
       "  </tbody>\n",
       "</table>\n",
       "</div>"
      ],
      "text/plain": [
       "   name   age           job     City                     Summary  \\\n",
       "0  Paul  32.0        No job   Llodio   Name: Paul - City: Llodio   \n",
       "1  John  50.0        No job  Amurrio  Name: John - City: Amurrio   \n",
       "2  Paco  14.0     fontanero   Orozko   Name: Paco - City: Orozko   \n",
       "3  Pepe  25.0  Carretillero   Orduña   Name: Pepe - City: Orduña   \n",
       "\n",
       "                    birthday  \n",
       "0 1993-02-15 12:49:01.640480  \n",
       "1 1975-02-20 12:49:01.640487  \n",
       "2 2011-02-11 12:49:01.640488  \n",
       "3 2000-02-14 12:49:01.640489  "
      ]
     },
     "execution_count": 162,
     "metadata": {},
     "output_type": "execute_result"
    }
   ],
   "source": [
    "df.loc[0, 'job'] = 'No job'\n",
    "df"
   ]
  },
  {
   "cell_type": "code",
   "execution_count": 163,
   "id": "98476b0f-4fa9-45fc-ae68-1af24758e7a6",
   "metadata": {},
   "outputs": [
    {
     "data": {
      "text/html": [
       "<div>\n",
       "<style scoped>\n",
       "    .dataframe tbody tr th:only-of-type {\n",
       "        vertical-align: middle;\n",
       "    }\n",
       "\n",
       "    .dataframe tbody tr th {\n",
       "        vertical-align: top;\n",
       "    }\n",
       "\n",
       "    .dataframe thead th {\n",
       "        text-align: right;\n",
       "    }\n",
       "</style>\n",
       "<table border=\"1\" class=\"dataframe\">\n",
       "  <thead>\n",
       "    <tr style=\"text-align: right;\">\n",
       "      <th></th>\n",
       "      <th>age</th>\n",
       "    </tr>\n",
       "    <tr>\n",
       "      <th>job</th>\n",
       "      <th></th>\n",
       "    </tr>\n",
       "  </thead>\n",
       "  <tbody>\n",
       "    <tr>\n",
       "      <th>Carretillero</th>\n",
       "      <td>25.0</td>\n",
       "    </tr>\n",
       "    <tr>\n",
       "      <th>No job</th>\n",
       "      <td>41.0</td>\n",
       "    </tr>\n",
       "    <tr>\n",
       "      <th>fontanero</th>\n",
       "      <td>14.0</td>\n",
       "    </tr>\n",
       "  </tbody>\n",
       "</table>\n",
       "</div>"
      ],
      "text/plain": [
       "               age\n",
       "job               \n",
       "Carretillero  25.0\n",
       "No job        41.0\n",
       "fontanero     14.0"
      ]
     },
     "execution_count": 163,
     "metadata": {},
     "output_type": "execute_result"
    }
   ],
   "source": [
    "df.groupby('job').agg({\n",
    "    'age': 'mean'\n",
    "}) # Esto se traduce en sacar por cada tipo de trabajo la media de edad"
   ]
  },
  {
   "cell_type": "code",
   "execution_count": 164,
   "id": "8883aecb-3c51-4256-a0e8-5cff37d3661f",
   "metadata": {},
   "outputs": [
    {
     "data": {
      "text/html": [
       "<div>\n",
       "<style scoped>\n",
       "    .dataframe tbody tr th:only-of-type {\n",
       "        vertical-align: middle;\n",
       "    }\n",
       "\n",
       "    .dataframe tbody tr th {\n",
       "        vertical-align: top;\n",
       "    }\n",
       "\n",
       "    .dataframe thead tr th {\n",
       "        text-align: left;\n",
       "    }\n",
       "\n",
       "    .dataframe thead tr:last-of-type th {\n",
       "        text-align: right;\n",
       "    }\n",
       "</style>\n",
       "<table border=\"1\" class=\"dataframe\">\n",
       "  <thead>\n",
       "    <tr>\n",
       "      <th></th>\n",
       "      <th colspan=\"3\" halign=\"left\">age</th>\n",
       "    </tr>\n",
       "    <tr>\n",
       "      <th></th>\n",
       "      <th>mean</th>\n",
       "      <th>min</th>\n",
       "      <th>max</th>\n",
       "    </tr>\n",
       "    <tr>\n",
       "      <th>job</th>\n",
       "      <th></th>\n",
       "      <th></th>\n",
       "      <th></th>\n",
       "    </tr>\n",
       "  </thead>\n",
       "  <tbody>\n",
       "    <tr>\n",
       "      <th>Carretillero</th>\n",
       "      <td>25.0</td>\n",
       "      <td>25.0</td>\n",
       "      <td>25.0</td>\n",
       "    </tr>\n",
       "    <tr>\n",
       "      <th>No job</th>\n",
       "      <td>41.0</td>\n",
       "      <td>32.0</td>\n",
       "      <td>50.0</td>\n",
       "    </tr>\n",
       "    <tr>\n",
       "      <th>fontanero</th>\n",
       "      <td>14.0</td>\n",
       "      <td>14.0</td>\n",
       "      <td>14.0</td>\n",
       "    </tr>\n",
       "  </tbody>\n",
       "</table>\n",
       "</div>"
      ],
      "text/plain": [
       "               age            \n",
       "              mean   min   max\n",
       "job                           \n",
       "Carretillero  25.0  25.0  25.0\n",
       "No job        41.0  32.0  50.0\n",
       "fontanero     14.0  14.0  14.0"
      ]
     },
     "execution_count": 164,
     "metadata": {},
     "output_type": "execute_result"
    }
   ],
   "source": [
    "df.groupby('job').agg({\n",
    "    'age': ['mean', 'min', 'max']\n",
    "}) # Se pueden añadir diferentes métricas"
   ]
  },
  {
   "cell_type": "raw",
   "id": "229339b7-d74c-47b5-87ad-2c9254ceafc9",
   "metadata": {},
   "source": [
    "ORDENACION o SORTING"
   ]
  },
  {
   "cell_type": "code",
   "execution_count": 165,
   "id": "3396d01b-34a9-4a43-9a9e-e703ebf00b4d",
   "metadata": {},
   "outputs": [
    {
     "data": {
      "text/html": [
       "<div>\n",
       "<style scoped>\n",
       "    .dataframe tbody tr th:only-of-type {\n",
       "        vertical-align: middle;\n",
       "    }\n",
       "\n",
       "    .dataframe tbody tr th {\n",
       "        vertical-align: top;\n",
       "    }\n",
       "\n",
       "    .dataframe thead th {\n",
       "        text-align: right;\n",
       "    }\n",
       "</style>\n",
       "<table border=\"1\" class=\"dataframe\">\n",
       "  <thead>\n",
       "    <tr style=\"text-align: right;\">\n",
       "      <th></th>\n",
       "      <th>name</th>\n",
       "      <th>age</th>\n",
       "      <th>job</th>\n",
       "      <th>City</th>\n",
       "      <th>Summary</th>\n",
       "      <th>birthday</th>\n",
       "    </tr>\n",
       "  </thead>\n",
       "  <tbody>\n",
       "    <tr>\n",
       "      <th>2</th>\n",
       "      <td>Paco</td>\n",
       "      <td>14.0</td>\n",
       "      <td>fontanero</td>\n",
       "      <td>Orozko</td>\n",
       "      <td>Name: Paco - City: Orozko</td>\n",
       "      <td>2011-02-11 12:49:01.640488</td>\n",
       "    </tr>\n",
       "    <tr>\n",
       "      <th>3</th>\n",
       "      <td>Pepe</td>\n",
       "      <td>25.0</td>\n",
       "      <td>Carretillero</td>\n",
       "      <td>Orduña</td>\n",
       "      <td>Name: Pepe - City: Orduña</td>\n",
       "      <td>2000-02-14 12:49:01.640489</td>\n",
       "    </tr>\n",
       "    <tr>\n",
       "      <th>0</th>\n",
       "      <td>Paul</td>\n",
       "      <td>32.0</td>\n",
       "      <td>No job</td>\n",
       "      <td>Llodio</td>\n",
       "      <td>Name: Paul - City: Llodio</td>\n",
       "      <td>1993-02-15 12:49:01.640480</td>\n",
       "    </tr>\n",
       "    <tr>\n",
       "      <th>1</th>\n",
       "      <td>John</td>\n",
       "      <td>50.0</td>\n",
       "      <td>No job</td>\n",
       "      <td>Amurrio</td>\n",
       "      <td>Name: John - City: Amurrio</td>\n",
       "      <td>1975-02-20 12:49:01.640487</td>\n",
       "    </tr>\n",
       "  </tbody>\n",
       "</table>\n",
       "</div>"
      ],
      "text/plain": [
       "   name   age           job     City                     Summary  \\\n",
       "2  Paco  14.0     fontanero   Orozko   Name: Paco - City: Orozko   \n",
       "3  Pepe  25.0  Carretillero   Orduña   Name: Pepe - City: Orduña   \n",
       "0  Paul  32.0        No job   Llodio   Name: Paul - City: Llodio   \n",
       "1  John  50.0        No job  Amurrio  Name: John - City: Amurrio   \n",
       "\n",
       "                    birthday  \n",
       "2 2011-02-11 12:49:01.640488  \n",
       "3 2000-02-14 12:49:01.640489  \n",
       "0 1993-02-15 12:49:01.640480  \n",
       "1 1975-02-20 12:49:01.640487  "
      ]
     },
     "execution_count": 165,
     "metadata": {},
     "output_type": "execute_result"
    }
   ],
   "source": [
    "df.sort_values('age')"
   ]
  },
  {
   "cell_type": "code",
   "execution_count": 166,
   "id": "3b8c7d57-6c8c-4185-8eb9-1d213773e97d",
   "metadata": {},
   "outputs": [
    {
     "data": {
      "text/html": [
       "<div>\n",
       "<style scoped>\n",
       "    .dataframe tbody tr th:only-of-type {\n",
       "        vertical-align: middle;\n",
       "    }\n",
       "\n",
       "    .dataframe tbody tr th {\n",
       "        vertical-align: top;\n",
       "    }\n",
       "\n",
       "    .dataframe thead th {\n",
       "        text-align: right;\n",
       "    }\n",
       "</style>\n",
       "<table border=\"1\" class=\"dataframe\">\n",
       "  <thead>\n",
       "    <tr style=\"text-align: right;\">\n",
       "      <th></th>\n",
       "      <th>name</th>\n",
       "      <th>age</th>\n",
       "      <th>job</th>\n",
       "      <th>City</th>\n",
       "      <th>Summary</th>\n",
       "      <th>birthday</th>\n",
       "    </tr>\n",
       "  </thead>\n",
       "  <tbody>\n",
       "    <tr>\n",
       "      <th>1</th>\n",
       "      <td>John</td>\n",
       "      <td>50.0</td>\n",
       "      <td>No job</td>\n",
       "      <td>Amurrio</td>\n",
       "      <td>Name: John - City: Amurrio</td>\n",
       "      <td>1975-02-20 12:49:01.640487</td>\n",
       "    </tr>\n",
       "    <tr>\n",
       "      <th>0</th>\n",
       "      <td>Paul</td>\n",
       "      <td>32.0</td>\n",
       "      <td>No job</td>\n",
       "      <td>Llodio</td>\n",
       "      <td>Name: Paul - City: Llodio</td>\n",
       "      <td>1993-02-15 12:49:01.640480</td>\n",
       "    </tr>\n",
       "    <tr>\n",
       "      <th>3</th>\n",
       "      <td>Pepe</td>\n",
       "      <td>25.0</td>\n",
       "      <td>Carretillero</td>\n",
       "      <td>Orduña</td>\n",
       "      <td>Name: Pepe - City: Orduña</td>\n",
       "      <td>2000-02-14 12:49:01.640489</td>\n",
       "    </tr>\n",
       "    <tr>\n",
       "      <th>2</th>\n",
       "      <td>Paco</td>\n",
       "      <td>14.0</td>\n",
       "      <td>fontanero</td>\n",
       "      <td>Orozko</td>\n",
       "      <td>Name: Paco - City: Orozko</td>\n",
       "      <td>2011-02-11 12:49:01.640488</td>\n",
       "    </tr>\n",
       "  </tbody>\n",
       "</table>\n",
       "</div>"
      ],
      "text/plain": [
       "   name   age           job     City                     Summary  \\\n",
       "1  John  50.0        No job  Amurrio  Name: John - City: Amurrio   \n",
       "0  Paul  32.0        No job   Llodio   Name: Paul - City: Llodio   \n",
       "3  Pepe  25.0  Carretillero   Orduña   Name: Pepe - City: Orduña   \n",
       "2  Paco  14.0     fontanero   Orozko   Name: Paco - City: Orozko   \n",
       "\n",
       "                    birthday  \n",
       "1 1975-02-20 12:49:01.640487  \n",
       "0 1993-02-15 12:49:01.640480  \n",
       "3 2000-02-14 12:49:01.640489  \n",
       "2 2011-02-11 12:49:01.640488  "
      ]
     },
     "execution_count": 166,
     "metadata": {},
     "output_type": "execute_result"
    }
   ],
   "source": [
    "df.sort_values('age', ascending=False)"
   ]
  },
  {
   "cell_type": "raw",
   "id": "eca89ec1-5c31-4e21-932c-f0b40fbea21f",
   "metadata": {},
   "source": [
    "CONCATENAR Dataframes"
   ]
  },
  {
   "cell_type": "code",
   "execution_count": 176,
   "id": "10818f2d-4fef-4938-b6a4-299590239b91",
   "metadata": {},
   "outputs": [],
   "source": [
    "df1 = pd.DataFrame({\n",
    "    'Item': ['A', 'B', 'C'],\n",
    "    'Price': [10, 20, 30],\n",
    "})\n",
    "\n",
    "df2 = pd.DataFrame({\n",
    "    'Item': ['D', 'E', 'f'],\n",
    "    'Price': [40, 50, 60],\n",
    "})"
   ]
  },
  {
   "cell_type": "code",
   "execution_count": 177,
   "id": "e9fa5521-9246-435e-b96a-21736d75937a",
   "metadata": {},
   "outputs": [
    {
     "data": {
      "text/html": [
       "<div>\n",
       "<style scoped>\n",
       "    .dataframe tbody tr th:only-of-type {\n",
       "        vertical-align: middle;\n",
       "    }\n",
       "\n",
       "    .dataframe tbody tr th {\n",
       "        vertical-align: top;\n",
       "    }\n",
       "\n",
       "    .dataframe thead th {\n",
       "        text-align: right;\n",
       "    }\n",
       "</style>\n",
       "<table border=\"1\" class=\"dataframe\">\n",
       "  <thead>\n",
       "    <tr style=\"text-align: right;\">\n",
       "      <th></th>\n",
       "      <th>Item</th>\n",
       "      <th>Price</th>\n",
       "    </tr>\n",
       "  </thead>\n",
       "  <tbody>\n",
       "    <tr>\n",
       "      <th>0</th>\n",
       "      <td>A</td>\n",
       "      <td>10</td>\n",
       "    </tr>\n",
       "    <tr>\n",
       "      <th>1</th>\n",
       "      <td>B</td>\n",
       "      <td>20</td>\n",
       "    </tr>\n",
       "    <tr>\n",
       "      <th>2</th>\n",
       "      <td>C</td>\n",
       "      <td>30</td>\n",
       "    </tr>\n",
       "    <tr>\n",
       "      <th>0</th>\n",
       "      <td>D</td>\n",
       "      <td>40</td>\n",
       "    </tr>\n",
       "    <tr>\n",
       "      <th>1</th>\n",
       "      <td>E</td>\n",
       "      <td>50</td>\n",
       "    </tr>\n",
       "    <tr>\n",
       "      <th>2</th>\n",
       "      <td>f</td>\n",
       "      <td>60</td>\n",
       "    </tr>\n",
       "  </tbody>\n",
       "</table>\n",
       "</div>"
      ],
      "text/plain": [
       "  Item  Price\n",
       "0    A     10\n",
       "1    B     20\n",
       "2    C     30\n",
       "0    D     40\n",
       "1    E     50\n",
       "2    f     60"
      ]
     },
     "execution_count": 177,
     "metadata": {},
     "output_type": "execute_result"
    }
   ],
   "source": [
    "pd.concat([df1, df2])"
   ]
  },
  {
   "cell_type": "code",
   "execution_count": 175,
   "id": "f68bf5f8-0b6f-494c-bb08-2a03f7c92c51",
   "metadata": {},
   "outputs": [
    {
     "data": {
      "text/html": [
       "<div>\n",
       "<style scoped>\n",
       "    .dataframe tbody tr th:only-of-type {\n",
       "        vertical-align: middle;\n",
       "    }\n",
       "\n",
       "    .dataframe tbody tr th {\n",
       "        vertical-align: top;\n",
       "    }\n",
       "\n",
       "    .dataframe thead th {\n",
       "        text-align: right;\n",
       "    }\n",
       "</style>\n",
       "<table border=\"1\" class=\"dataframe\">\n",
       "  <thead>\n",
       "    <tr style=\"text-align: right;\">\n",
       "      <th></th>\n",
       "      <th>Item</th>\n",
       "      <th>Price</th>\n",
       "    </tr>\n",
       "  </thead>\n",
       "  <tbody>\n",
       "    <tr>\n",
       "      <th>0</th>\n",
       "      <td>A</td>\n",
       "      <td>10</td>\n",
       "    </tr>\n",
       "    <tr>\n",
       "      <th>1</th>\n",
       "      <td>B</td>\n",
       "      <td>20</td>\n",
       "    </tr>\n",
       "    <tr>\n",
       "      <th>2</th>\n",
       "      <td>C</td>\n",
       "      <td>30</td>\n",
       "    </tr>\n",
       "    <tr>\n",
       "      <th>3</th>\n",
       "      <td>D</td>\n",
       "      <td>40</td>\n",
       "    </tr>\n",
       "    <tr>\n",
       "      <th>4</th>\n",
       "      <td>E</td>\n",
       "      <td>50</td>\n",
       "    </tr>\n",
       "    <tr>\n",
       "      <th>5</th>\n",
       "      <td>f</td>\n",
       "      <td>60</td>\n",
       "    </tr>\n",
       "  </tbody>\n",
       "</table>\n",
       "</div>"
      ],
      "text/plain": [
       "  Item  Price\n",
       "0    A     10\n",
       "1    B     20\n",
       "2    C     30\n",
       "3    D     40\n",
       "4    E     50\n",
       "5    f     60"
      ]
     },
     "execution_count": 175,
     "metadata": {},
     "output_type": "execute_result"
    }
   ],
   "source": [
    "pd.concat([df1, df2]).reset_index().drop('index', axis = 1)"
   ]
  },
  {
   "cell_type": "raw",
   "id": "b7101ea7-321f-43b7-b5bb-41e5299ee7d1",
   "metadata": {},
   "source": [
    "CONCATENADO columnas"
   ]
  },
  {
   "cell_type": "code",
   "execution_count": 178,
   "id": "ebc5b730-18c8-41c4-bbe6-7c32cf1f872f",
   "metadata": {},
   "outputs": [],
   "source": [
    "df3 = pd.DataFrame({\n",
    "    'Item': ['A', 'B', 'C'],\n",
    "    'Price': [10, 20, 30],\n",
    "})\n",
    "\n",
    "df4 = pd.DataFrame({\n",
    "    'Country': ['X', 'Y', 'Z'],\n",
    "    'Available': [True, True, False],\n",
    "})"
   ]
  },
  {
   "cell_type": "code",
   "execution_count": 179,
   "id": "3e095742-78c2-41ea-92ab-f017ab349a8b",
   "metadata": {},
   "outputs": [
    {
     "data": {
      "text/html": [
       "<div>\n",
       "<style scoped>\n",
       "    .dataframe tbody tr th:only-of-type {\n",
       "        vertical-align: middle;\n",
       "    }\n",
       "\n",
       "    .dataframe tbody tr th {\n",
       "        vertical-align: top;\n",
       "    }\n",
       "\n",
       "    .dataframe thead th {\n",
       "        text-align: right;\n",
       "    }\n",
       "</style>\n",
       "<table border=\"1\" class=\"dataframe\">\n",
       "  <thead>\n",
       "    <tr style=\"text-align: right;\">\n",
       "      <th></th>\n",
       "      <th>Item</th>\n",
       "      <th>Price</th>\n",
       "      <th>Country</th>\n",
       "      <th>Available</th>\n",
       "    </tr>\n",
       "  </thead>\n",
       "  <tbody>\n",
       "    <tr>\n",
       "      <th>0</th>\n",
       "      <td>A</td>\n",
       "      <td>10</td>\n",
       "      <td>X</td>\n",
       "      <td>True</td>\n",
       "    </tr>\n",
       "    <tr>\n",
       "      <th>1</th>\n",
       "      <td>B</td>\n",
       "      <td>20</td>\n",
       "      <td>Y</td>\n",
       "      <td>True</td>\n",
       "    </tr>\n",
       "    <tr>\n",
       "      <th>2</th>\n",
       "      <td>C</td>\n",
       "      <td>30</td>\n",
       "      <td>Z</td>\n",
       "      <td>False</td>\n",
       "    </tr>\n",
       "  </tbody>\n",
       "</table>\n",
       "</div>"
      ],
      "text/plain": [
       "  Item  Price Country  Available\n",
       "0    A     10       X       True\n",
       "1    B     20       Y       True\n",
       "2    C     30       Z      False"
      ]
     },
     "execution_count": 179,
     "metadata": {},
     "output_type": "execute_result"
    }
   ],
   "source": [
    "pd.concat([df3, df4], axis = 1)"
   ]
  },
  {
   "cell_type": "raw",
   "id": "058219ac-0849-4aa9-a709-68fc8af2f9cf",
   "metadata": {},
   "source": [
    "MERGEAR Dataframes. El merge se basa en campos comunes."
   ]
  },
  {
   "cell_type": "code",
   "execution_count": 182,
   "id": "9bcbd7e7-5948-4277-b5bb-2c27a0d0d91c",
   "metadata": {},
   "outputs": [],
   "source": [
    "df5 = pd.DataFrame({\n",
    "    'Item': ['A', 'B', 'C'],\n",
    "    'Price': [10, 20, 30],\n",
    "})\n",
    "\n",
    "df6 = pd.DataFrame({\n",
    "    'Item': ['B', 'E', 'C'],\n",
    "    'Country': ['X', 'Y', 'Z'],\n",
    "})"
   ]
  },
  {
   "cell_type": "code",
   "execution_count": 183,
   "id": "09be7071-bb29-49f1-bce5-03599ef53f92",
   "metadata": {},
   "outputs": [
    {
     "data": {
      "text/html": [
       "<div>\n",
       "<style scoped>\n",
       "    .dataframe tbody tr th:only-of-type {\n",
       "        vertical-align: middle;\n",
       "    }\n",
       "\n",
       "    .dataframe tbody tr th {\n",
       "        vertical-align: top;\n",
       "    }\n",
       "\n",
       "    .dataframe thead th {\n",
       "        text-align: right;\n",
       "    }\n",
       "</style>\n",
       "<table border=\"1\" class=\"dataframe\">\n",
       "  <thead>\n",
       "    <tr style=\"text-align: right;\">\n",
       "      <th></th>\n",
       "      <th>Item</th>\n",
       "      <th>Price</th>\n",
       "      <th>Country</th>\n",
       "    </tr>\n",
       "  </thead>\n",
       "  <tbody>\n",
       "    <tr>\n",
       "      <th>0</th>\n",
       "      <td>B</td>\n",
       "      <td>20</td>\n",
       "      <td>X</td>\n",
       "    </tr>\n",
       "    <tr>\n",
       "      <th>1</th>\n",
       "      <td>C</td>\n",
       "      <td>30</td>\n",
       "      <td>Z</td>\n",
       "    </tr>\n",
       "  </tbody>\n",
       "</table>\n",
       "</div>"
      ],
      "text/plain": [
       "  Item  Price Country\n",
       "0    B     20       X\n",
       "1    C     30       Z"
      ]
     },
     "execution_count": 183,
     "metadata": {},
     "output_type": "execute_result"
    }
   ],
   "source": [
    "pd.merge(df5, df6)"
   ]
  },
  {
   "cell_type": "code",
   "execution_count": 195,
   "id": "1a52c90e-b863-4312-8438-36b85aecb1a6",
   "metadata": {},
   "outputs": [
    {
     "data": {
      "text/html": [
       "<div>\n",
       "<style scoped>\n",
       "    .dataframe tbody tr th:only-of-type {\n",
       "        vertical-align: middle;\n",
       "    }\n",
       "\n",
       "    .dataframe tbody tr th {\n",
       "        vertical-align: top;\n",
       "    }\n",
       "\n",
       "    .dataframe thead th {\n",
       "        text-align: right;\n",
       "    }\n",
       "</style>\n",
       "<table border=\"1\" class=\"dataframe\">\n",
       "  <thead>\n",
       "    <tr style=\"text-align: right;\">\n",
       "      <th></th>\n",
       "      <th>Item</th>\n",
       "      <th>Price</th>\n",
       "      <th>Country</th>\n",
       "    </tr>\n",
       "  </thead>\n",
       "  <tbody>\n",
       "    <tr>\n",
       "      <th>0</th>\n",
       "      <td>A</td>\n",
       "      <td>10.0</td>\n",
       "      <td>NaN</td>\n",
       "    </tr>\n",
       "    <tr>\n",
       "      <th>1</th>\n",
       "      <td>B</td>\n",
       "      <td>20.0</td>\n",
       "      <td>X</td>\n",
       "    </tr>\n",
       "    <tr>\n",
       "      <th>2</th>\n",
       "      <td>C</td>\n",
       "      <td>30.0</td>\n",
       "      <td>Z</td>\n",
       "    </tr>\n",
       "    <tr>\n",
       "      <th>3</th>\n",
       "      <td>E</td>\n",
       "      <td>NaN</td>\n",
       "      <td>Y</td>\n",
       "    </tr>\n",
       "  </tbody>\n",
       "</table>\n",
       "</div>"
      ],
      "text/plain": [
       "  Item  Price Country\n",
       "0    A   10.0     NaN\n",
       "1    B   20.0       X\n",
       "2    C   30.0       Z\n",
       "3    E    NaN       Y"
      ]
     },
     "execution_count": 195,
     "metadata": {},
     "output_type": "execute_result"
    }
   ],
   "source": [
    "pd.merge(df5, df6, on = 'Item', how='outer') # how = 'inner' es por defecto. También existen how = 'left' (todos los registros de df5) / 'right' (todos los registros de df6)"
   ]
  },
  {
   "cell_type": "raw",
   "id": "4b1a24ae-fe86-49cc-be21-43cf46bf1bd5",
   "metadata": {},
   "source": [
    "JOINNING. El Join se basa en el índice"
   ]
  },
  {
   "cell_type": "code",
   "execution_count": 197,
   "id": "9462a87a-8da2-490f-8585-9c8808c5e5a7",
   "metadata": {},
   "outputs": [],
   "source": [
    "df7 = pd.DataFrame({\n",
    "    'Price': [10, 20, 30],\n",
    "}, index = ['A', 'B', 'C'])\n",
    "\n",
    "df8 = pd.DataFrame({\n",
    "    'Country': ['X', 'Y', 'Z'],\n",
    "}, index = ['B', 'E', 'C'])"
   ]
  },
  {
   "cell_type": "code",
   "execution_count": 200,
   "id": "50ae7655-7ba8-48e3-9de0-30861213f844",
   "metadata": {},
   "outputs": [
    {
     "data": {
      "text/html": [
       "<div>\n",
       "<style scoped>\n",
       "    .dataframe tbody tr th:only-of-type {\n",
       "        vertical-align: middle;\n",
       "    }\n",
       "\n",
       "    .dataframe tbody tr th {\n",
       "        vertical-align: top;\n",
       "    }\n",
       "\n",
       "    .dataframe thead th {\n",
       "        text-align: right;\n",
       "    }\n",
       "</style>\n",
       "<table border=\"1\" class=\"dataframe\">\n",
       "  <thead>\n",
       "    <tr style=\"text-align: right;\">\n",
       "      <th></th>\n",
       "      <th>Price</th>\n",
       "      <th>Country</th>\n",
       "    </tr>\n",
       "  </thead>\n",
       "  <tbody>\n",
       "    <tr>\n",
       "      <th>A</th>\n",
       "      <td>10.0</td>\n",
       "      <td>NaN</td>\n",
       "    </tr>\n",
       "    <tr>\n",
       "      <th>B</th>\n",
       "      <td>20.0</td>\n",
       "      <td>X</td>\n",
       "    </tr>\n",
       "    <tr>\n",
       "      <th>C</th>\n",
       "      <td>30.0</td>\n",
       "      <td>Z</td>\n",
       "    </tr>\n",
       "    <tr>\n",
       "      <th>E</th>\n",
       "      <td>NaN</td>\n",
       "      <td>Y</td>\n",
       "    </tr>\n",
       "  </tbody>\n",
       "</table>\n",
       "</div>"
      ],
      "text/plain": [
       "   Price Country\n",
       "A   10.0     NaN\n",
       "B   20.0       X\n",
       "C   30.0       Z\n",
       "E    NaN       Y"
      ]
     },
     "execution_count": 200,
     "metadata": {},
     "output_type": "execute_result"
    }
   ],
   "source": [
    "df7.join(df8, how = 'outer')"
   ]
  },
  {
   "cell_type": "raw",
   "id": "0a530bbe-9338-4c37-9017-99f0bf67db50",
   "metadata": {},
   "source": [
    "EXPORTANDO el Dataframe a un fichero CSV. Hay que especificar index = 0 o de lo contrario en la exportación añade un campo adicional sin nombre, lo que hace que al importarlo de nuevo a un dataframe, se duplique el campo de los indices."
   ]
  },
  {
   "cell_type": "code",
   "execution_count": 230,
   "id": "f3bd71d7-f87e-43ff-be6c-07898b235879",
   "metadata": {},
   "outputs": [],
   "source": [
    "#df.to_csv(\"mydataframe.csv\")\n",
    "df.to_csv(\"mydataframe.csv\", index=0)"
   ]
  },
  {
   "cell_type": "raw",
   "id": "cf9d2b1b-589c-4a82-9177-909a5339c9b8",
   "metadata": {},
   "source": [
    "IMPORTANDO el fichero CSV a un DataFrame. Si no se ha exportado con el argumento index = 0, entonces se genera un nuevo campo llamado 'UNNAMED' duplicando el valor de los índices."
   ]
  },
  {
   "cell_type": "code",
   "execution_count": 231,
   "id": "f923000d-9594-4df8-a910-dae66e5c7ec6",
   "metadata": {},
   "outputs": [
    {
     "data": {
      "text/html": [
       "<div>\n",
       "<style scoped>\n",
       "    .dataframe tbody tr th:only-of-type {\n",
       "        vertical-align: middle;\n",
       "    }\n",
       "\n",
       "    .dataframe tbody tr th {\n",
       "        vertical-align: top;\n",
       "    }\n",
       "\n",
       "    .dataframe thead th {\n",
       "        text-align: right;\n",
       "    }\n",
       "</style>\n",
       "<table border=\"1\" class=\"dataframe\">\n",
       "  <thead>\n",
       "    <tr style=\"text-align: right;\">\n",
       "      <th></th>\n",
       "      <th>name</th>\n",
       "      <th>age</th>\n",
       "      <th>job</th>\n",
       "      <th>City</th>\n",
       "    </tr>\n",
       "  </thead>\n",
       "  <tbody>\n",
       "    <tr>\n",
       "      <th>0</th>\n",
       "      <td>Paul</td>\n",
       "      <td>32</td>\n",
       "      <td>Peluquero</td>\n",
       "      <td>Llodio</td>\n",
       "    </tr>\n",
       "    <tr>\n",
       "      <th>1</th>\n",
       "      <td>John</td>\n",
       "      <td>576</td>\n",
       "      <td>No job</td>\n",
       "      <td>Amurrio</td>\n",
       "    </tr>\n",
       "    <tr>\n",
       "      <th>2</th>\n",
       "      <td>Paco</td>\n",
       "      <td>14</td>\n",
       "      <td>fontanero</td>\n",
       "      <td>Orozko</td>\n",
       "    </tr>\n",
       "    <tr>\n",
       "      <th>3</th>\n",
       "      <td>Pepe</td>\n",
       "      <td>50</td>\n",
       "      <td>Carretillero</td>\n",
       "      <td>Orduña</td>\n",
       "    </tr>\n",
       "  </tbody>\n",
       "</table>\n",
       "</div>"
      ],
      "text/plain": [
       "   name  age           job     City\n",
       "0  Paul   32     Peluquero   Llodio\n",
       "1  John  576        No job  Amurrio\n",
       "2  Paco   14     fontanero   Orozko\n",
       "3  Pepe   50  Carretillero   Orduña"
      ]
     },
     "execution_count": 231,
     "metadata": {},
     "output_type": "execute_result"
    }
   ],
   "source": [
    "path = '/mnt/c/Users/jflorido/OneDrive - Kochind.com/Documents/1 - AREAS/90 - CODING/0 - PYTHON/pandas/mydataframe.csv'\n",
    "df_imported = pd.read_csv(path)\n",
    "df_imported\n",
    "#df_imported.loc[0]"
   ]
  },
  {
   "cell_type": "raw",
   "id": "2d5d324d-b5b1-42a2-a8df-d8b9cd26b8cf",
   "metadata": {},
   "source": [
    "EXPORTANDO el Dataframe a un fichero JSON"
   ]
  },
  {
   "cell_type": "code",
   "execution_count": 232,
   "id": "1b1360bd-80ad-4f3a-be7b-b1e36e65157b",
   "metadata": {},
   "outputs": [],
   "source": [
    "df.to_json(\"mydataframe.json\")"
   ]
  },
  {
   "cell_type": "raw",
   "id": "a895c97b-2cfd-406d-a34b-5ada587219f0",
   "metadata": {},
   "source": [
    "EXPORTANDO el Dataframe a un fichero EXCEL"
   ]
  },
  {
   "cell_type": "code",
   "execution_count": 233,
   "id": "e4864880-2ebf-45ea-9b9b-13fe6e8c74ce",
   "metadata": {},
   "outputs": [],
   "source": [
    "df.to_excel(\"mydataframe.xlsx\", index=False)"
   ]
  },
  {
   "cell_type": "raw",
   "id": "3843d1b5-ee88-4d1e-ae15-e8ec7f1ac7f4",
   "metadata": {},
   "source": []
  },
  {
   "cell_type": "raw",
   "id": "1a5faf6c-6a86-4672-ad9c-0e46b34e9554",
   "metadata": {},
   "source": []
  },
  {
   "cell_type": "raw",
   "id": "3505465b-a80f-4ab8-a610-6171f835e13e",
   "metadata": {},
   "source": [
    "======================================================================================================================="
   ]
  },
  {
   "cell_type": "raw",
   "id": "476e5d44-e5e9-49b8-a184-c5bd7a00ae6e",
   "metadata": {},
   "source": [
    "======================================================================================================================="
   ]
  },
  {
   "cell_type": "raw",
   "id": "709747af-540b-4fbf-9161-e31e3e71daba",
   "metadata": {},
   "source": []
  },
  {
   "cell_type": "raw",
   "id": "36373063-af73-4167-990a-79548fb86fb9",
   "metadata": {},
   "source": []
  },
  {
   "cell_type": "code",
   "execution_count": 234,
   "id": "df8ba31e-b98c-4db4-a69b-87a206903197",
   "metadata": {},
   "outputs": [],
   "source": [
    "from sklearn.datasets import fetch_california_housing"
   ]
  },
  {
   "cell_type": "code",
   "execution_count": 235,
   "id": "531f2004-5a86-4f4a-ba00-6000628aebfe",
   "metadata": {},
   "outputs": [
    {
     "data": {
      "text/html": [
       "<div>\n",
       "<style scoped>\n",
       "    .dataframe tbody tr th:only-of-type {\n",
       "        vertical-align: middle;\n",
       "    }\n",
       "\n",
       "    .dataframe tbody tr th {\n",
       "        vertical-align: top;\n",
       "    }\n",
       "\n",
       "    .dataframe thead th {\n",
       "        text-align: right;\n",
       "    }\n",
       "</style>\n",
       "<table border=\"1\" class=\"dataframe\">\n",
       "  <thead>\n",
       "    <tr style=\"text-align: right;\">\n",
       "      <th></th>\n",
       "      <th>MedInc</th>\n",
       "      <th>HouseAge</th>\n",
       "      <th>AveRooms</th>\n",
       "      <th>AveBedrms</th>\n",
       "      <th>Population</th>\n",
       "      <th>AveOccup</th>\n",
       "      <th>Latitude</th>\n",
       "      <th>Longitude</th>\n",
       "      <th>MedHouseVal</th>\n",
       "    </tr>\n",
       "  </thead>\n",
       "  <tbody>\n",
       "    <tr>\n",
       "      <th>0</th>\n",
       "      <td>8.3252</td>\n",
       "      <td>41.0</td>\n",
       "      <td>6.984127</td>\n",
       "      <td>1.023810</td>\n",
       "      <td>322.0</td>\n",
       "      <td>2.555556</td>\n",
       "      <td>37.88</td>\n",
       "      <td>-122.23</td>\n",
       "      <td>4.526</td>\n",
       "    </tr>\n",
       "    <tr>\n",
       "      <th>1</th>\n",
       "      <td>8.3014</td>\n",
       "      <td>21.0</td>\n",
       "      <td>6.238137</td>\n",
       "      <td>0.971880</td>\n",
       "      <td>2401.0</td>\n",
       "      <td>2.109842</td>\n",
       "      <td>37.86</td>\n",
       "      <td>-122.22</td>\n",
       "      <td>3.585</td>\n",
       "    </tr>\n",
       "    <tr>\n",
       "      <th>2</th>\n",
       "      <td>7.2574</td>\n",
       "      <td>52.0</td>\n",
       "      <td>8.288136</td>\n",
       "      <td>1.073446</td>\n",
       "      <td>496.0</td>\n",
       "      <td>2.802260</td>\n",
       "      <td>37.85</td>\n",
       "      <td>-122.24</td>\n",
       "      <td>3.521</td>\n",
       "    </tr>\n",
       "    <tr>\n",
       "      <th>3</th>\n",
       "      <td>5.6431</td>\n",
       "      <td>52.0</td>\n",
       "      <td>5.817352</td>\n",
       "      <td>1.073059</td>\n",
       "      <td>558.0</td>\n",
       "      <td>2.547945</td>\n",
       "      <td>37.85</td>\n",
       "      <td>-122.25</td>\n",
       "      <td>3.413</td>\n",
       "    </tr>\n",
       "    <tr>\n",
       "      <th>4</th>\n",
       "      <td>3.8462</td>\n",
       "      <td>52.0</td>\n",
       "      <td>6.281853</td>\n",
       "      <td>1.081081</td>\n",
       "      <td>565.0</td>\n",
       "      <td>2.181467</td>\n",
       "      <td>37.85</td>\n",
       "      <td>-122.25</td>\n",
       "      <td>3.422</td>\n",
       "    </tr>\n",
       "    <tr>\n",
       "      <th>...</th>\n",
       "      <td>...</td>\n",
       "      <td>...</td>\n",
       "      <td>...</td>\n",
       "      <td>...</td>\n",
       "      <td>...</td>\n",
       "      <td>...</td>\n",
       "      <td>...</td>\n",
       "      <td>...</td>\n",
       "      <td>...</td>\n",
       "    </tr>\n",
       "    <tr>\n",
       "      <th>20635</th>\n",
       "      <td>1.5603</td>\n",
       "      <td>25.0</td>\n",
       "      <td>5.045455</td>\n",
       "      <td>1.133333</td>\n",
       "      <td>845.0</td>\n",
       "      <td>2.560606</td>\n",
       "      <td>39.48</td>\n",
       "      <td>-121.09</td>\n",
       "      <td>0.781</td>\n",
       "    </tr>\n",
       "    <tr>\n",
       "      <th>20636</th>\n",
       "      <td>2.5568</td>\n",
       "      <td>18.0</td>\n",
       "      <td>6.114035</td>\n",
       "      <td>1.315789</td>\n",
       "      <td>356.0</td>\n",
       "      <td>3.122807</td>\n",
       "      <td>39.49</td>\n",
       "      <td>-121.21</td>\n",
       "      <td>0.771</td>\n",
       "    </tr>\n",
       "    <tr>\n",
       "      <th>20637</th>\n",
       "      <td>1.7000</td>\n",
       "      <td>17.0</td>\n",
       "      <td>5.205543</td>\n",
       "      <td>1.120092</td>\n",
       "      <td>1007.0</td>\n",
       "      <td>2.325635</td>\n",
       "      <td>39.43</td>\n",
       "      <td>-121.22</td>\n",
       "      <td>0.923</td>\n",
       "    </tr>\n",
       "    <tr>\n",
       "      <th>20638</th>\n",
       "      <td>1.8672</td>\n",
       "      <td>18.0</td>\n",
       "      <td>5.329513</td>\n",
       "      <td>1.171920</td>\n",
       "      <td>741.0</td>\n",
       "      <td>2.123209</td>\n",
       "      <td>39.43</td>\n",
       "      <td>-121.32</td>\n",
       "      <td>0.847</td>\n",
       "    </tr>\n",
       "    <tr>\n",
       "      <th>20639</th>\n",
       "      <td>2.3886</td>\n",
       "      <td>16.0</td>\n",
       "      <td>5.254717</td>\n",
       "      <td>1.162264</td>\n",
       "      <td>1387.0</td>\n",
       "      <td>2.616981</td>\n",
       "      <td>39.37</td>\n",
       "      <td>-121.24</td>\n",
       "      <td>0.894</td>\n",
       "    </tr>\n",
       "  </tbody>\n",
       "</table>\n",
       "<p>20640 rows × 9 columns</p>\n",
       "</div>"
      ],
      "text/plain": [
       "       MedInc  HouseAge  AveRooms  AveBedrms  Population  AveOccup  Latitude  \\\n",
       "0      8.3252      41.0  6.984127   1.023810       322.0  2.555556     37.88   \n",
       "1      8.3014      21.0  6.238137   0.971880      2401.0  2.109842     37.86   \n",
       "2      7.2574      52.0  8.288136   1.073446       496.0  2.802260     37.85   \n",
       "3      5.6431      52.0  5.817352   1.073059       558.0  2.547945     37.85   \n",
       "4      3.8462      52.0  6.281853   1.081081       565.0  2.181467     37.85   \n",
       "...       ...       ...       ...        ...         ...       ...       ...   \n",
       "20635  1.5603      25.0  5.045455   1.133333       845.0  2.560606     39.48   \n",
       "20636  2.5568      18.0  6.114035   1.315789       356.0  3.122807     39.49   \n",
       "20637  1.7000      17.0  5.205543   1.120092      1007.0  2.325635     39.43   \n",
       "20638  1.8672      18.0  5.329513   1.171920       741.0  2.123209     39.43   \n",
       "20639  2.3886      16.0  5.254717   1.162264      1387.0  2.616981     39.37   \n",
       "\n",
       "       Longitude  MedHouseVal  \n",
       "0        -122.23        4.526  \n",
       "1        -122.22        3.585  \n",
       "2        -122.24        3.521  \n",
       "3        -122.25        3.413  \n",
       "4        -122.25        3.422  \n",
       "...          ...          ...  \n",
       "20635    -121.09        0.781  \n",
       "20636    -121.21        0.771  \n",
       "20637    -121.22        0.923  \n",
       "20638    -121.32        0.847  \n",
       "20639    -121.24        0.894  \n",
       "\n",
       "[20640 rows x 9 columns]"
      ]
     },
     "execution_count": 235,
     "metadata": {},
     "output_type": "execute_result"
    }
   ],
   "source": [
    "dataf = fetch_california_housing(as_frame=True).frame\n",
    "dataf"
   ]
  },
  {
   "cell_type": "raw",
   "id": "1e0ecc4e-6aa1-4021-94eb-1b0c355e4081",
   "metadata": {},
   "source": [
    "Imprimiendo los primeros registros"
   ]
  },
  {
   "cell_type": "code",
   "execution_count": 236,
   "id": "64e3688b-1918-45be-88d1-1a64d93f36a8",
   "metadata": {},
   "outputs": [
    {
     "data": {
      "text/html": [
       "<div>\n",
       "<style scoped>\n",
       "    .dataframe tbody tr th:only-of-type {\n",
       "        vertical-align: middle;\n",
       "    }\n",
       "\n",
       "    .dataframe tbody tr th {\n",
       "        vertical-align: top;\n",
       "    }\n",
       "\n",
       "    .dataframe thead th {\n",
       "        text-align: right;\n",
       "    }\n",
       "</style>\n",
       "<table border=\"1\" class=\"dataframe\">\n",
       "  <thead>\n",
       "    <tr style=\"text-align: right;\">\n",
       "      <th></th>\n",
       "      <th>MedInc</th>\n",
       "      <th>HouseAge</th>\n",
       "      <th>AveRooms</th>\n",
       "      <th>AveBedrms</th>\n",
       "      <th>Population</th>\n",
       "      <th>AveOccup</th>\n",
       "      <th>Latitude</th>\n",
       "      <th>Longitude</th>\n",
       "      <th>MedHouseVal</th>\n",
       "    </tr>\n",
       "  </thead>\n",
       "  <tbody>\n",
       "    <tr>\n",
       "      <th>0</th>\n",
       "      <td>8.3252</td>\n",
       "      <td>41.0</td>\n",
       "      <td>6.984127</td>\n",
       "      <td>1.023810</td>\n",
       "      <td>322.0</td>\n",
       "      <td>2.555556</td>\n",
       "      <td>37.88</td>\n",
       "      <td>-122.23</td>\n",
       "      <td>4.526</td>\n",
       "    </tr>\n",
       "    <tr>\n",
       "      <th>1</th>\n",
       "      <td>8.3014</td>\n",
       "      <td>21.0</td>\n",
       "      <td>6.238137</td>\n",
       "      <td>0.971880</td>\n",
       "      <td>2401.0</td>\n",
       "      <td>2.109842</td>\n",
       "      <td>37.86</td>\n",
       "      <td>-122.22</td>\n",
       "      <td>3.585</td>\n",
       "    </tr>\n",
       "    <tr>\n",
       "      <th>2</th>\n",
       "      <td>7.2574</td>\n",
       "      <td>52.0</td>\n",
       "      <td>8.288136</td>\n",
       "      <td>1.073446</td>\n",
       "      <td>496.0</td>\n",
       "      <td>2.802260</td>\n",
       "      <td>37.85</td>\n",
       "      <td>-122.24</td>\n",
       "      <td>3.521</td>\n",
       "    </tr>\n",
       "    <tr>\n",
       "      <th>3</th>\n",
       "      <td>5.6431</td>\n",
       "      <td>52.0</td>\n",
       "      <td>5.817352</td>\n",
       "      <td>1.073059</td>\n",
       "      <td>558.0</td>\n",
       "      <td>2.547945</td>\n",
       "      <td>37.85</td>\n",
       "      <td>-122.25</td>\n",
       "      <td>3.413</td>\n",
       "    </tr>\n",
       "    <tr>\n",
       "      <th>4</th>\n",
       "      <td>3.8462</td>\n",
       "      <td>52.0</td>\n",
       "      <td>6.281853</td>\n",
       "      <td>1.081081</td>\n",
       "      <td>565.0</td>\n",
       "      <td>2.181467</td>\n",
       "      <td>37.85</td>\n",
       "      <td>-122.25</td>\n",
       "      <td>3.422</td>\n",
       "    </tr>\n",
       "    <tr>\n",
       "      <th>5</th>\n",
       "      <td>4.0368</td>\n",
       "      <td>52.0</td>\n",
       "      <td>4.761658</td>\n",
       "      <td>1.103627</td>\n",
       "      <td>413.0</td>\n",
       "      <td>2.139896</td>\n",
       "      <td>37.85</td>\n",
       "      <td>-122.25</td>\n",
       "      <td>2.697</td>\n",
       "    </tr>\n",
       "    <tr>\n",
       "      <th>6</th>\n",
       "      <td>3.6591</td>\n",
       "      <td>52.0</td>\n",
       "      <td>4.931907</td>\n",
       "      <td>0.951362</td>\n",
       "      <td>1094.0</td>\n",
       "      <td>2.128405</td>\n",
       "      <td>37.84</td>\n",
       "      <td>-122.25</td>\n",
       "      <td>2.992</td>\n",
       "    </tr>\n",
       "    <tr>\n",
       "      <th>7</th>\n",
       "      <td>3.1200</td>\n",
       "      <td>52.0</td>\n",
       "      <td>4.797527</td>\n",
       "      <td>1.061824</td>\n",
       "      <td>1157.0</td>\n",
       "      <td>1.788253</td>\n",
       "      <td>37.84</td>\n",
       "      <td>-122.25</td>\n",
       "      <td>2.414</td>\n",
       "    </tr>\n",
       "    <tr>\n",
       "      <th>8</th>\n",
       "      <td>2.0804</td>\n",
       "      <td>42.0</td>\n",
       "      <td>4.294118</td>\n",
       "      <td>1.117647</td>\n",
       "      <td>1206.0</td>\n",
       "      <td>2.026891</td>\n",
       "      <td>37.84</td>\n",
       "      <td>-122.26</td>\n",
       "      <td>2.267</td>\n",
       "    </tr>\n",
       "    <tr>\n",
       "      <th>9</th>\n",
       "      <td>3.6912</td>\n",
       "      <td>52.0</td>\n",
       "      <td>4.970588</td>\n",
       "      <td>0.990196</td>\n",
       "      <td>1551.0</td>\n",
       "      <td>2.172269</td>\n",
       "      <td>37.84</td>\n",
       "      <td>-122.25</td>\n",
       "      <td>2.611</td>\n",
       "    </tr>\n",
       "  </tbody>\n",
       "</table>\n",
       "</div>"
      ],
      "text/plain": [
       "   MedInc  HouseAge  AveRooms  AveBedrms  Population  AveOccup  Latitude  \\\n",
       "0  8.3252      41.0  6.984127   1.023810       322.0  2.555556     37.88   \n",
       "1  8.3014      21.0  6.238137   0.971880      2401.0  2.109842     37.86   \n",
       "2  7.2574      52.0  8.288136   1.073446       496.0  2.802260     37.85   \n",
       "3  5.6431      52.0  5.817352   1.073059       558.0  2.547945     37.85   \n",
       "4  3.8462      52.0  6.281853   1.081081       565.0  2.181467     37.85   \n",
       "5  4.0368      52.0  4.761658   1.103627       413.0  2.139896     37.85   \n",
       "6  3.6591      52.0  4.931907   0.951362      1094.0  2.128405     37.84   \n",
       "7  3.1200      52.0  4.797527   1.061824      1157.0  1.788253     37.84   \n",
       "8  2.0804      42.0  4.294118   1.117647      1206.0  2.026891     37.84   \n",
       "9  3.6912      52.0  4.970588   0.990196      1551.0  2.172269     37.84   \n",
       "\n",
       "   Longitude  MedHouseVal  \n",
       "0    -122.23        4.526  \n",
       "1    -122.22        3.585  \n",
       "2    -122.24        3.521  \n",
       "3    -122.25        3.413  \n",
       "4    -122.25        3.422  \n",
       "5    -122.25        2.697  \n",
       "6    -122.25        2.992  \n",
       "7    -122.25        2.414  \n",
       "8    -122.26        2.267  \n",
       "9    -122.25        2.611  "
      ]
     },
     "execution_count": 236,
     "metadata": {},
     "output_type": "execute_result"
    }
   ],
   "source": [
    "dataf.head(10)"
   ]
  },
  {
   "cell_type": "raw",
   "id": "1844372e-9944-403a-a55d-50c1c8c06399",
   "metadata": {},
   "source": [
    "Imprimiendo los últimos registros"
   ]
  },
  {
   "cell_type": "code",
   "execution_count": 237,
   "id": "57023a48-dc7e-4fc7-924a-9f47f0e3d628",
   "metadata": {},
   "outputs": [
    {
     "data": {
      "text/html": [
       "<div>\n",
       "<style scoped>\n",
       "    .dataframe tbody tr th:only-of-type {\n",
       "        vertical-align: middle;\n",
       "    }\n",
       "\n",
       "    .dataframe tbody tr th {\n",
       "        vertical-align: top;\n",
       "    }\n",
       "\n",
       "    .dataframe thead th {\n",
       "        text-align: right;\n",
       "    }\n",
       "</style>\n",
       "<table border=\"1\" class=\"dataframe\">\n",
       "  <thead>\n",
       "    <tr style=\"text-align: right;\">\n",
       "      <th></th>\n",
       "      <th>MedInc</th>\n",
       "      <th>HouseAge</th>\n",
       "      <th>AveRooms</th>\n",
       "      <th>AveBedrms</th>\n",
       "      <th>Population</th>\n",
       "      <th>AveOccup</th>\n",
       "      <th>Latitude</th>\n",
       "      <th>Longitude</th>\n",
       "      <th>MedHouseVal</th>\n",
       "    </tr>\n",
       "  </thead>\n",
       "  <tbody>\n",
       "    <tr>\n",
       "      <th>20635</th>\n",
       "      <td>1.5603</td>\n",
       "      <td>25.0</td>\n",
       "      <td>5.045455</td>\n",
       "      <td>1.133333</td>\n",
       "      <td>845.0</td>\n",
       "      <td>2.560606</td>\n",
       "      <td>39.48</td>\n",
       "      <td>-121.09</td>\n",
       "      <td>0.781</td>\n",
       "    </tr>\n",
       "    <tr>\n",
       "      <th>20636</th>\n",
       "      <td>2.5568</td>\n",
       "      <td>18.0</td>\n",
       "      <td>6.114035</td>\n",
       "      <td>1.315789</td>\n",
       "      <td>356.0</td>\n",
       "      <td>3.122807</td>\n",
       "      <td>39.49</td>\n",
       "      <td>-121.21</td>\n",
       "      <td>0.771</td>\n",
       "    </tr>\n",
       "    <tr>\n",
       "      <th>20637</th>\n",
       "      <td>1.7000</td>\n",
       "      <td>17.0</td>\n",
       "      <td>5.205543</td>\n",
       "      <td>1.120092</td>\n",
       "      <td>1007.0</td>\n",
       "      <td>2.325635</td>\n",
       "      <td>39.43</td>\n",
       "      <td>-121.22</td>\n",
       "      <td>0.923</td>\n",
       "    </tr>\n",
       "    <tr>\n",
       "      <th>20638</th>\n",
       "      <td>1.8672</td>\n",
       "      <td>18.0</td>\n",
       "      <td>5.329513</td>\n",
       "      <td>1.171920</td>\n",
       "      <td>741.0</td>\n",
       "      <td>2.123209</td>\n",
       "      <td>39.43</td>\n",
       "      <td>-121.32</td>\n",
       "      <td>0.847</td>\n",
       "    </tr>\n",
       "    <tr>\n",
       "      <th>20639</th>\n",
       "      <td>2.3886</td>\n",
       "      <td>16.0</td>\n",
       "      <td>5.254717</td>\n",
       "      <td>1.162264</td>\n",
       "      <td>1387.0</td>\n",
       "      <td>2.616981</td>\n",
       "      <td>39.37</td>\n",
       "      <td>-121.24</td>\n",
       "      <td>0.894</td>\n",
       "    </tr>\n",
       "  </tbody>\n",
       "</table>\n",
       "</div>"
      ],
      "text/plain": [
       "       MedInc  HouseAge  AveRooms  AveBedrms  Population  AveOccup  Latitude  \\\n",
       "20635  1.5603      25.0  5.045455   1.133333       845.0  2.560606     39.48   \n",
       "20636  2.5568      18.0  6.114035   1.315789       356.0  3.122807     39.49   \n",
       "20637  1.7000      17.0  5.205543   1.120092      1007.0  2.325635     39.43   \n",
       "20638  1.8672      18.0  5.329513   1.171920       741.0  2.123209     39.43   \n",
       "20639  2.3886      16.0  5.254717   1.162264      1387.0  2.616981     39.37   \n",
       "\n",
       "       Longitude  MedHouseVal  \n",
       "20635    -121.09        0.781  \n",
       "20636    -121.21        0.771  \n",
       "20637    -121.22        0.923  \n",
       "20638    -121.32        0.847  \n",
       "20639    -121.24        0.894  "
      ]
     },
     "execution_count": 237,
     "metadata": {},
     "output_type": "execute_result"
    }
   ],
   "source": [
    "dataf.tail()"
   ]
  },
  {
   "cell_type": "raw",
   "id": "2e619fce-5d7b-45f9-b586-e9f43a00d9bc",
   "metadata": {},
   "source": [
    "Obtener registros aleatorios"
   ]
  },
  {
   "cell_type": "code",
   "execution_count": 238,
   "id": "30c4d2c7-a9c5-4688-a4c4-fb69685de814",
   "metadata": {},
   "outputs": [
    {
     "data": {
      "text/html": [
       "<div>\n",
       "<style scoped>\n",
       "    .dataframe tbody tr th:only-of-type {\n",
       "        vertical-align: middle;\n",
       "    }\n",
       "\n",
       "    .dataframe tbody tr th {\n",
       "        vertical-align: top;\n",
       "    }\n",
       "\n",
       "    .dataframe thead th {\n",
       "        text-align: right;\n",
       "    }\n",
       "</style>\n",
       "<table border=\"1\" class=\"dataframe\">\n",
       "  <thead>\n",
       "    <tr style=\"text-align: right;\">\n",
       "      <th></th>\n",
       "      <th>MedInc</th>\n",
       "      <th>HouseAge</th>\n",
       "      <th>AveRooms</th>\n",
       "      <th>AveBedrms</th>\n",
       "      <th>Population</th>\n",
       "      <th>AveOccup</th>\n",
       "      <th>Latitude</th>\n",
       "      <th>Longitude</th>\n",
       "      <th>MedHouseVal</th>\n",
       "    </tr>\n",
       "  </thead>\n",
       "  <tbody>\n",
       "    <tr>\n",
       "      <th>1195</th>\n",
       "      <td>1.7552</td>\n",
       "      <td>24.0</td>\n",
       "      <td>4.418502</td>\n",
       "      <td>1.105727</td>\n",
       "      <td>1098.0</td>\n",
       "      <td>4.837004</td>\n",
       "      <td>39.35</td>\n",
       "      <td>-121.65</td>\n",
       "      <td>0.86400</td>\n",
       "    </tr>\n",
       "    <tr>\n",
       "      <th>11722</th>\n",
       "      <td>4.9620</td>\n",
       "      <td>20.0</td>\n",
       "      <td>24.532895</td>\n",
       "      <td>4.039474</td>\n",
       "      <td>365.0</td>\n",
       "      <td>2.401316</td>\n",
       "      <td>39.24</td>\n",
       "      <td>-120.07</td>\n",
       "      <td>1.69500</td>\n",
       "    </tr>\n",
       "    <tr>\n",
       "      <th>19897</th>\n",
       "      <td>1.5464</td>\n",
       "      <td>17.0</td>\n",
       "      <td>4.500000</td>\n",
       "      <td>0.993506</td>\n",
       "      <td>2022.0</td>\n",
       "      <td>4.376623</td>\n",
       "      <td>36.31</td>\n",
       "      <td>-119.22</td>\n",
       "      <td>0.54100</td>\n",
       "    </tr>\n",
       "    <tr>\n",
       "      <th>16175</th>\n",
       "      <td>10.2264</td>\n",
       "      <td>52.0</td>\n",
       "      <td>4.666667</td>\n",
       "      <td>0.888889</td>\n",
       "      <td>37.0</td>\n",
       "      <td>1.370370</td>\n",
       "      <td>37.74</td>\n",
       "      <td>-122.39</td>\n",
       "      <td>2.25000</td>\n",
       "    </tr>\n",
       "    <tr>\n",
       "      <th>11535</th>\n",
       "      <td>2.0952</td>\n",
       "      <td>27.0</td>\n",
       "      <td>3.412903</td>\n",
       "      <td>1.025806</td>\n",
       "      <td>193.0</td>\n",
       "      <td>1.245161</td>\n",
       "      <td>33.76</td>\n",
       "      <td>-118.08</td>\n",
       "      <td>0.71300</td>\n",
       "    </tr>\n",
       "    <tr>\n",
       "      <th>6930</th>\n",
       "      <td>2.9321</td>\n",
       "      <td>14.0</td>\n",
       "      <td>4.778058</td>\n",
       "      <td>1.021438</td>\n",
       "      <td>2551.0</td>\n",
       "      <td>3.216898</td>\n",
       "      <td>34.02</td>\n",
       "      <td>-118.08</td>\n",
       "      <td>1.44200</td>\n",
       "    </tr>\n",
       "    <tr>\n",
       "      <th>8230</th>\n",
       "      <td>1.5076</td>\n",
       "      <td>24.0</td>\n",
       "      <td>3.192563</td>\n",
       "      <td>1.087649</td>\n",
       "      <td>1566.0</td>\n",
       "      <td>2.079681</td>\n",
       "      <td>33.77</td>\n",
       "      <td>-118.20</td>\n",
       "      <td>1.45800</td>\n",
       "    </tr>\n",
       "    <tr>\n",
       "      <th>5260</th>\n",
       "      <td>15.0000</td>\n",
       "      <td>39.0</td>\n",
       "      <td>9.293750</td>\n",
       "      <td>1.018750</td>\n",
       "      <td>414.0</td>\n",
       "      <td>2.587500</td>\n",
       "      <td>34.05</td>\n",
       "      <td>-118.50</td>\n",
       "      <td>5.00001</td>\n",
       "    </tr>\n",
       "    <tr>\n",
       "      <th>5540</th>\n",
       "      <td>5.1064</td>\n",
       "      <td>16.0</td>\n",
       "      <td>4.142142</td>\n",
       "      <td>1.108206</td>\n",
       "      <td>6270.0</td>\n",
       "      <td>1.744089</td>\n",
       "      <td>33.96</td>\n",
       "      <td>-118.43</td>\n",
       "      <td>2.83200</td>\n",
       "    </tr>\n",
       "    <tr>\n",
       "      <th>14084</th>\n",
       "      <td>5.7768</td>\n",
       "      <td>49.0</td>\n",
       "      <td>6.275035</td>\n",
       "      <td>1.002821</td>\n",
       "      <td>1606.0</td>\n",
       "      <td>2.265162</td>\n",
       "      <td>32.77</td>\n",
       "      <td>-117.10</td>\n",
       "      <td>2.81600</td>\n",
       "    </tr>\n",
       "  </tbody>\n",
       "</table>\n",
       "</div>"
      ],
      "text/plain": [
       "        MedInc  HouseAge   AveRooms  AveBedrms  Population  AveOccup  \\\n",
       "1195    1.7552      24.0   4.418502   1.105727      1098.0  4.837004   \n",
       "11722   4.9620      20.0  24.532895   4.039474       365.0  2.401316   \n",
       "19897   1.5464      17.0   4.500000   0.993506      2022.0  4.376623   \n",
       "16175  10.2264      52.0   4.666667   0.888889        37.0  1.370370   \n",
       "11535   2.0952      27.0   3.412903   1.025806       193.0  1.245161   \n",
       "6930    2.9321      14.0   4.778058   1.021438      2551.0  3.216898   \n",
       "8230    1.5076      24.0   3.192563   1.087649      1566.0  2.079681   \n",
       "5260   15.0000      39.0   9.293750   1.018750       414.0  2.587500   \n",
       "5540    5.1064      16.0   4.142142   1.108206      6270.0  1.744089   \n",
       "14084   5.7768      49.0   6.275035   1.002821      1606.0  2.265162   \n",
       "\n",
       "       Latitude  Longitude  MedHouseVal  \n",
       "1195      39.35    -121.65      0.86400  \n",
       "11722     39.24    -120.07      1.69500  \n",
       "19897     36.31    -119.22      0.54100  \n",
       "16175     37.74    -122.39      2.25000  \n",
       "11535     33.76    -118.08      0.71300  \n",
       "6930      34.02    -118.08      1.44200  \n",
       "8230      33.77    -118.20      1.45800  \n",
       "5260      34.05    -118.50      5.00001  \n",
       "5540      33.96    -118.43      2.83200  \n",
       "14084     32.77    -117.10      2.81600  "
      ]
     },
     "execution_count": 238,
     "metadata": {},
     "output_type": "execute_result"
    }
   ],
   "source": [
    "dataf.sample(10)"
   ]
  },
  {
   "cell_type": "raw",
   "id": "b438a2e8-fe70-4f62-a75d-38a24b74b65d",
   "metadata": {},
   "source": [
    "Obtener información sobre el dataframe"
   ]
  },
  {
   "cell_type": "code",
   "execution_count": 239,
   "id": "0952cf57-1435-4b2b-9865-139eb311fcfa",
   "metadata": {},
   "outputs": [
    {
     "name": "stdout",
     "output_type": "stream",
     "text": [
      "<class 'pandas.core.frame.DataFrame'>\n",
      "RangeIndex: 20640 entries, 0 to 20639\n",
      "Data columns (total 9 columns):\n",
      " #   Column       Non-Null Count  Dtype  \n",
      "---  ------       --------------  -----  \n",
      " 0   MedInc       20640 non-null  float64\n",
      " 1   HouseAge     20640 non-null  float64\n",
      " 2   AveRooms     20640 non-null  float64\n",
      " 3   AveBedrms    20640 non-null  float64\n",
      " 4   Population   20640 non-null  float64\n",
      " 5   AveOccup     20640 non-null  float64\n",
      " 6   Latitude     20640 non-null  float64\n",
      " 7   Longitude    20640 non-null  float64\n",
      " 8   MedHouseVal  20640 non-null  float64\n",
      "dtypes: float64(9)\n",
      "memory usage: 1.4 MB\n"
     ]
    }
   ],
   "source": [
    "dataf.info()"
   ]
  },
  {
   "cell_type": "raw",
   "id": "e1456cc4-f528-4c56-8088-30ce47e9e844",
   "metadata": {},
   "source": [
    "Obtener una lista con el nombre de los campos del dataframe"
   ]
  },
  {
   "cell_type": "code",
   "execution_count": 240,
   "id": "2ad330b0-eac9-4b6f-bc51-65ad415df08d",
   "metadata": {},
   "outputs": [
    {
     "data": {
      "text/plain": [
       "['MedInc',\n",
       " 'HouseAge',\n",
       " 'AveRooms',\n",
       " 'AveBedrms',\n",
       " 'Population',\n",
       " 'AveOccup',\n",
       " 'Latitude',\n",
       " 'Longitude',\n",
       " 'MedHouseVal']"
      ]
     },
     "execution_count": 240,
     "metadata": {},
     "output_type": "execute_result"
    }
   ],
   "source": [
    "df_names = list(dataf.columns)\n",
    "df_names"
   ]
  },
  {
   "cell_type": "raw",
   "id": "27435db9-7da8-49b5-a479-25f05a8bfd67",
   "metadata": {},
   "source": [
    "Para sacar los valores de los principales datos estadísticos"
   ]
  },
  {
   "cell_type": "code",
   "execution_count": 241,
   "id": "30fd2703-2ae6-46ea-8d48-fc236458a572",
   "metadata": {},
   "outputs": [
    {
     "data": {
      "text/html": [
       "<div>\n",
       "<style scoped>\n",
       "    .dataframe tbody tr th:only-of-type {\n",
       "        vertical-align: middle;\n",
       "    }\n",
       "\n",
       "    .dataframe tbody tr th {\n",
       "        vertical-align: top;\n",
       "    }\n",
       "\n",
       "    .dataframe thead th {\n",
       "        text-align: right;\n",
       "    }\n",
       "</style>\n",
       "<table border=\"1\" class=\"dataframe\">\n",
       "  <thead>\n",
       "    <tr style=\"text-align: right;\">\n",
       "      <th></th>\n",
       "      <th>MedInc</th>\n",
       "      <th>HouseAge</th>\n",
       "      <th>AveRooms</th>\n",
       "      <th>AveBedrms</th>\n",
       "      <th>Population</th>\n",
       "      <th>AveOccup</th>\n",
       "      <th>Latitude</th>\n",
       "      <th>Longitude</th>\n",
       "      <th>MedHouseVal</th>\n",
       "    </tr>\n",
       "  </thead>\n",
       "  <tbody>\n",
       "    <tr>\n",
       "      <th>count</th>\n",
       "      <td>20640.000000</td>\n",
       "      <td>20640.000000</td>\n",
       "      <td>20640.000000</td>\n",
       "      <td>20640.000000</td>\n",
       "      <td>20640.000000</td>\n",
       "      <td>20640.000000</td>\n",
       "      <td>20640.000000</td>\n",
       "      <td>20640.000000</td>\n",
       "      <td>20640.000000</td>\n",
       "    </tr>\n",
       "    <tr>\n",
       "      <th>mean</th>\n",
       "      <td>3.870671</td>\n",
       "      <td>28.639486</td>\n",
       "      <td>5.429000</td>\n",
       "      <td>1.096675</td>\n",
       "      <td>1425.476744</td>\n",
       "      <td>3.070655</td>\n",
       "      <td>35.631861</td>\n",
       "      <td>-119.569704</td>\n",
       "      <td>2.068558</td>\n",
       "    </tr>\n",
       "    <tr>\n",
       "      <th>std</th>\n",
       "      <td>1.899822</td>\n",
       "      <td>12.585558</td>\n",
       "      <td>2.474173</td>\n",
       "      <td>0.473911</td>\n",
       "      <td>1132.462122</td>\n",
       "      <td>10.386050</td>\n",
       "      <td>2.135952</td>\n",
       "      <td>2.003532</td>\n",
       "      <td>1.153956</td>\n",
       "    </tr>\n",
       "    <tr>\n",
       "      <th>min</th>\n",
       "      <td>0.499900</td>\n",
       "      <td>1.000000</td>\n",
       "      <td>0.846154</td>\n",
       "      <td>0.333333</td>\n",
       "      <td>3.000000</td>\n",
       "      <td>0.692308</td>\n",
       "      <td>32.540000</td>\n",
       "      <td>-124.350000</td>\n",
       "      <td>0.149990</td>\n",
       "    </tr>\n",
       "    <tr>\n",
       "      <th>25%</th>\n",
       "      <td>2.563400</td>\n",
       "      <td>18.000000</td>\n",
       "      <td>4.440716</td>\n",
       "      <td>1.006079</td>\n",
       "      <td>787.000000</td>\n",
       "      <td>2.429741</td>\n",
       "      <td>33.930000</td>\n",
       "      <td>-121.800000</td>\n",
       "      <td>1.196000</td>\n",
       "    </tr>\n",
       "    <tr>\n",
       "      <th>50%</th>\n",
       "      <td>3.534800</td>\n",
       "      <td>29.000000</td>\n",
       "      <td>5.229129</td>\n",
       "      <td>1.048780</td>\n",
       "      <td>1166.000000</td>\n",
       "      <td>2.818116</td>\n",
       "      <td>34.260000</td>\n",
       "      <td>-118.490000</td>\n",
       "      <td>1.797000</td>\n",
       "    </tr>\n",
       "    <tr>\n",
       "      <th>75%</th>\n",
       "      <td>4.743250</td>\n",
       "      <td>37.000000</td>\n",
       "      <td>6.052381</td>\n",
       "      <td>1.099526</td>\n",
       "      <td>1725.000000</td>\n",
       "      <td>3.282261</td>\n",
       "      <td>37.710000</td>\n",
       "      <td>-118.010000</td>\n",
       "      <td>2.647250</td>\n",
       "    </tr>\n",
       "    <tr>\n",
       "      <th>max</th>\n",
       "      <td>15.000100</td>\n",
       "      <td>52.000000</td>\n",
       "      <td>141.909091</td>\n",
       "      <td>34.066667</td>\n",
       "      <td>35682.000000</td>\n",
       "      <td>1243.333333</td>\n",
       "      <td>41.950000</td>\n",
       "      <td>-114.310000</td>\n",
       "      <td>5.000010</td>\n",
       "    </tr>\n",
       "  </tbody>\n",
       "</table>\n",
       "</div>"
      ],
      "text/plain": [
       "             MedInc      HouseAge      AveRooms     AveBedrms    Population  \\\n",
       "count  20640.000000  20640.000000  20640.000000  20640.000000  20640.000000   \n",
       "mean       3.870671     28.639486      5.429000      1.096675   1425.476744   \n",
       "std        1.899822     12.585558      2.474173      0.473911   1132.462122   \n",
       "min        0.499900      1.000000      0.846154      0.333333      3.000000   \n",
       "25%        2.563400     18.000000      4.440716      1.006079    787.000000   \n",
       "50%        3.534800     29.000000      5.229129      1.048780   1166.000000   \n",
       "75%        4.743250     37.000000      6.052381      1.099526   1725.000000   \n",
       "max       15.000100     52.000000    141.909091     34.066667  35682.000000   \n",
       "\n",
       "           AveOccup      Latitude     Longitude   MedHouseVal  \n",
       "count  20640.000000  20640.000000  20640.000000  20640.000000  \n",
       "mean       3.070655     35.631861   -119.569704      2.068558  \n",
       "std       10.386050      2.135952      2.003532      1.153956  \n",
       "min        0.692308     32.540000   -124.350000      0.149990  \n",
       "25%        2.429741     33.930000   -121.800000      1.196000  \n",
       "50%        2.818116     34.260000   -118.490000      1.797000  \n",
       "75%        3.282261     37.710000   -118.010000      2.647250  \n",
       "max     1243.333333     41.950000   -114.310000      5.000010  "
      ]
     },
     "execution_count": 241,
     "metadata": {},
     "output_type": "execute_result"
    }
   ],
   "source": [
    "dataf.describe()"
   ]
  },
  {
   "cell_type": "raw",
   "id": "479b0b5c-fc5f-4399-b7e2-7822feb44f79",
   "metadata": {},
   "source": [
    "Podemos sacar estas métricas estadísticas para un campo determinado"
   ]
  },
  {
   "cell_type": "code",
   "execution_count": 242,
   "id": "15644cfb-5b2b-4b87-bbe3-b784e54af4ef",
   "metadata": {},
   "outputs": [
    {
     "data": {
      "text/plain": [
       "np.float64(28.639486434108527)"
      ]
     },
     "execution_count": 242,
     "metadata": {},
     "output_type": "execute_result"
    }
   ],
   "source": [
    "dataf['HouseAge'].mean()"
   ]
  },
  {
   "cell_type": "code",
   "execution_count": 243,
   "id": "a8265586-644b-43f6-aecf-f9ff49f7908c",
   "metadata": {},
   "outputs": [
    {
     "data": {
      "text/plain": [
       "np.float64(0.4999)"
      ]
     },
     "execution_count": 243,
     "metadata": {},
     "output_type": "execute_result"
    }
   ],
   "source": [
    "dataf['MedInc'].min()"
   ]
  },
  {
   "cell_type": "code",
   "execution_count": 244,
   "id": "41183531-8fd0-403e-a981-0b71be83a010",
   "metadata": {},
   "outputs": [
    {
     "data": {
      "text/plain": [
       "0     3.1250\n",
       "1    15.0001\n",
       "Name: MedInc, dtype: float64"
      ]
     },
     "execution_count": 244,
     "metadata": {},
     "output_type": "execute_result"
    }
   ],
   "source": [
    "dataf['MedInc'].mode()"
   ]
  },
  {
   "cell_type": "code",
   "execution_count": 245,
   "id": "d9b35749-4220-45d5-8ab4-279dca5c0a07",
   "metadata": {},
   "outputs": [
    {
     "data": {
      "text/plain": [
       "count    20640.000000\n",
       "mean        28.639486\n",
       "std         12.585558\n",
       "min          1.000000\n",
       "25%         18.000000\n",
       "50%         29.000000\n",
       "75%         37.000000\n",
       "max         52.000000\n",
       "Name: HouseAge, dtype: float64"
      ]
     },
     "execution_count": 245,
     "metadata": {},
     "output_type": "execute_result"
    }
   ],
   "source": [
    "dataf['HouseAge'].describe()"
   ]
  },
  {
   "cell_type": "raw",
   "id": "0ba46420-fc4f-4c66-9391-502a843d86fa",
   "metadata": {},
   "source": [
    "Podemos usar la funcion hist() para sacar el histograma de la libreria Matplotlib"
   ]
  },
  {
   "cell_type": "code",
   "execution_count": 246,
   "id": "e709e0cb-2774-4921-aa0c-eb2d78697d75",
   "metadata": {},
   "outputs": [
    {
     "data": {
      "image/png": "[encoded data removed]",
      "text/plain": [
       "<Figure size 640x480 with 1 Axes>"
      ]
     },
     "metadata": {},
     "output_type": "display_data"
    }
   ],
   "source": [
    "import matplotlib.pyplot as plt\n",
    "\n",
    "plt.hist(dataf['HouseAge'], color = 'orchid')\n",
    "#dataf['HouseAge'].hist(color = 'orchid')\n",
    "plt.title('House Age JMF')\n",
    "plt.show()"
   ]
  },
  {
   "cell_type": "raw",
   "id": "6fbdfa36-59cb-4927-a471-15b89b05b87a",
   "metadata": {},
   "source": [
    "Obtener un histograma de cada uno de los campos (features) del dataframe"
   ]
  },
  {
   "cell_type": "code",
   "execution_count": 247,
   "id": "b6413441-f8a8-42d9-9502-230c324986c1",
   "metadata": {},
   "outputs": [
    {
     "data": {
      "text/plain": [
       "array([[<Axes: title={'center': 'MedInc'}>,\n",
       "        <Axes: title={'center': 'HouseAge'}>,\n",
       "        <Axes: title={'center': 'AveRooms'}>],\n",
       "       [<Axes: title={'center': 'AveBedrms'}>,\n",
       "        <Axes: title={'center': 'Population'}>,\n",
       "        <Axes: title={'center': 'AveOccup'}>],\n",
       "       [<Axes: title={'center': 'Latitude'}>,\n",
       "        <Axes: title={'center': 'Longitude'}>,\n",
       "        <Axes: title={'center': 'MedHouseVal'}>]], dtype=object)"
      ]
     },
     "execution_count": 247,
     "metadata": {},
     "output_type": "execute_result"
    },
    {
     "data": {
      "image/png": "[encoded data removed]",
      "text/plain": [
       "<Figure size 1500x1200 with 9 Axes>"
      ]
     },
     "metadata": {},
     "output_type": "display_data"
    }
   ],
   "source": [
    "dataf.hist(figsize= (15, 12))"
   ]
  }
 ],
 "metadata": {
  "kernelspec": {
   "display_name": "Python 3 (ipykernel)",
   "language": "python",
   "name": "python3"
  },
  "language_info": {
   "codemirror_mode": {
    "name": "ipython",
    "version": 3
   },
   "file_extension": ".py",
   "mimetype": "text/x-python",
   "name": "python",
   "nbconvert_exporter": "python",
   "pygments_lexer": "ipython3",
   "version": "3.12.3"
  }
 },
 "nbformat": 4,
 "nbformat_minor": 5
}
